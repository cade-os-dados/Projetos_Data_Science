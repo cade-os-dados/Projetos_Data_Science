{
  "nbformat": 4,
  "nbformat_minor": 0,
  "metadata": {
    "colab": {
      "provenance": [],
      "collapsed_sections": [],
      "toc_visible": true,
      "authorship_tag": "ABX9TyPhJJLcnwNBI83P8zxlb+gU",
      "include_colab_link": true
    },
    "kernelspec": {
      "name": "python3",
      "display_name": "Python 3"
    },
    "language_info": {
      "name": "python"
    }
  },
  "cells": [
    {
      "cell_type": "markdown",
      "metadata": {
        "id": "view-in-github",
        "colab_type": "text"
      },
      "source": [
        "<a href=\"https://colab.research.google.com/github/cade-os-dados/Projetos_Data_Science/blob/main/M1_DSNP3_Projeto_Airbnb_Singapura_V3_2.ipynb\" target=\"_parent\"><img src=\"https://colab.research.google.com/assets/colab-badge.svg\" alt=\"Open In Colab\"/></a>"
      ]
    },
    {
      "cell_type": "markdown",
      "source": [
        "<img alt=\"Colaboratory logo\" width=\"15%\" src=\"https://raw.githubusercontent.com/carlosfab/escola-data-science/master/img/novo_logo_bg_claro.png\">\n",
        "\n",
        "#### **Data Science na Prática 3.0**\n",
        "*Template by [sigmoidal.ai](https://sigmoidal.ai)* <br/>\n",
        "*Written by Rafael Felipe da Silva* \n",
        "\n",
        "---\n",
        "\n",
        "# Análise dos Dados do Airbnb - *Singapura*\n",
        "\n",
        "O [Airbnb](https://www.airbnb.com.br/) já é considerado como sendo a **maior empresa hoteleira da atualidade**. Ah, o detalhe é que ele **não possui nenhum hotel**!\n",
        "\n",
        "Similar ao modelo de negócio da **Uber**, o Airbnb é um intermédio que conecta pessoas que querem viajar (e se hospedar) com anfitriões que querem alugar seus imóveis de maneira prática, assim o Airbnb fornece uma plataforma inovadora para tornar essa hospedagem alternativa.\n",
        "\n",
        "No final de 2018, a Startup fundada 10 anos atrás, já havia **hospedado mais de 300 milhões** de pessoas ao redor de todo o mundo, desafiando as redes hoteleiras tradicionais.\n",
        "\n",
        "Uma das iniciativas do Airbnb é disponibilizar dados do site, para algumas das principais cidades do mundo. Por meio do portal [Inside Airbnb](http://insideairbnb.com/get-the-data.html), é possível baixar uma grande quantidade de dados para desenvolver projetos e soluções de *Data Science*.\n",
        "\n",
        "<center><img alt=\"Analisando Airbnb\" width=\"10%\" src=\"https://www.area360.com.au/wp-content/uploads/2017/09/airbnb-logo.jpg\"></center>\n",
        "\n",
        "**Neste *notebook*, iremos analisar os dados referentes à cidade de Singapura, e ver quais insights podem ser extraídos a partir de dados brutos.**"
      ],
      "metadata": {
        "id": "fC0un3pOUgDd"
      }
    },
    {
      "cell_type": "markdown",
      "source": [
        "# Singapura\n"
      ],
      "metadata": {
        "id": "dBETIviga3x0"
      }
    },
    {
      "cell_type": "markdown",
      "source": [
        "## Apresentando a cidade-estado\n",
        "A cidade-estado de Singapura, situa-se na Ásia, próxima às Ilhas Filipinas. Sendo muito próxima da linha do Equador, configurando um clima agradável e propício ao **Turismo**. \n",
        "\n",
        "<img src=\"http://drive.google.com/uc?export=view&id=1Fb_aWgS27iCmNw8l_3OoUJLdEdMwN7Io\" width=\"100%\">\n",
        "<em> Fonte: Google Maps </em>\n",
        "\n",
        "Este minúsculo país é composto por 709 $km^2$ e uma população de cerca de 5 milhões de habitantes, que são responsáveis por produzir um PIB de aproximadamente 400 bilhões de USD ao ano, sendo atualmente o **segundo colocado** no ranking mundial de PIB per capta.\n",
        "\n",
        "Em termos de segurança, o país possui índices baixos de roubo, furto e homicídios, sendo as suas taxas calculadas (dados de 2016 e 2017) em 1, 243 e 0,2 por 100.000 habitantes, respectivamente, que equivalem a 0,001%, 0,243% e 0,0002%.\n",
        "\n",
        "Por fim, o Índice de Desenvolvimento Humano que varia entre 0 e 1 foi mensurado em 0,938 em 2020, colocando o país em **décimo segundo** colocado no ranking mundial.\n",
        "\n",
        "Os dados acima foram retirados do portal [the Global Economy](https://pt.theglobaleconomy.com/Singapore/).\n"
      ],
      "metadata": {
        "id": "_FWxD1hTr2iY"
      }
    },
    {
      "cell_type": "markdown",
      "source": [
        "## Atrações Turísticas\n",
        "\n",
        "Alguns dos pontos turísticos que são obrigatórios para quem quer conhecer a Singapura são o Merlion Park, Marina Bay Sands Hotel e o Gardens by the Bay. Para conhecer mais sobre cada uma destas atrações confira o [Guia de Singapura](https://www.guiadecingapura.com/).\n",
        "\n",
        "<br/>\n",
        "<h3> Merlion Park </h3>\n",
        "O Merlion Park é dito a casa de Merlion, esta mistura de leão com peixe, sendo ele o símbolo de Singapura.\n",
        "<img src=\"http://drive.google.com/uc?export=view&id=1Y4tTj727l07GLhPTiCjhNDldsVGgBReK\">\n",
        "\n",
        "Fonte: [TripAdvisor](https://www.tripadvisor.com.br/Attraction_Review-g294265-d644919-Reviews-Merlion_Park-Singapore.html) \n",
        "\n",
        "<br/>\n",
        "<h3> Marina Bay Sands Hotel </h3>\n",
        "Além de hospedar as pessoas, este hotel é praticamente um parque de diversões, contendo teatro, museu, cassino, shopping e uma piscina no topo da sua cobertura.\n",
        "<img src=\"http://drive.google.com/uc?export=view&id=19OrnJMSuKr5tglETqMzyDOVvWywPNSP7\">\n",
        "\n",
        "Fonte: [SairdoBrasil](https://sairdobrasil.com/destino/singapura-uma-cidade-que-vai-surpreender-voce/attachment/marina-bay-sands-4/)\n",
        "\n",
        "<br/>\n",
        "<h3> Gardens by the Bay </h3>\n",
        "Este parque ecológico possui uma mistura de árvores artificiais e plantas de verdade, tendo uma iluminação única durante a noite.\n",
        "<img src=\"http://drive.google.com/uc?export=view&id=1u0B-ynPSeSE-34X2WWaVTR0fXi5c7qwj\">\n",
        "\n",
        "Fonte: [TheTelegraph](https://www.telegraph.co.uk/travel/icons-of-the-sky/best-cultural-attractions/)\n",
        "\n",
        "<br/>\n",
        "Gostou das atrações? Confira uma lista com 29 atrações turísticas de Singapura nesta publicação: [Artigo Atrações Turísticas de Singapura](https://www.viajali.com.br/singapura/).\n"
      ],
      "metadata": {
        "id": "U-iEUwXEp8S2"
      }
    },
    {
      "cell_type": "markdown",
      "source": [
        "## Algumas regras importantes\n",
        "\n",
        "Para manter a cidade limpa e organizada, o governo de Singapura estabeleceu leis rígidas que podem acabar pegando alguns turistas de surpresa. Cito aqui três regras simples que se não forem cumpridas podem gerar generosas multas.\n",
        "\n",
        "<h3> 1. Jogar lixo na rua </h3>\n",
        "Se você for pego jogando lixo na rua, será multado em no mínimo 300 dólares singapurianos (SGD).\n",
        "\n",
        "<h3> 2. Atravessar fora da faixa </h3>\n",
        "Se você for pego atravessando fora da faixa, será multado em 1000 SGD. Em caso de reincidência, a multa passa a ser 2000 SGD.\n",
        "<h3> 3. Fumar em Singapura </h3>\n",
        "Em Singapura, só é permitido fumar em locais específicos para o fumo, portanto, se você for pego fumando em qualquer outro lugar será multado em 1000 SGD.\n",
        "\n",
        "<br/>\n",
        "Quer saber mais sobre multas em Singapura? Confira este [artigo](https://www.vounajanela.com/singapura/regras-e-leis-de-singapura/).\n"
      ],
      "metadata": {
        "id": "t_FRhEEGAOBB"
      }
    },
    {
      "cell_type": "markdown",
      "source": [
        "# Análise Exploratória"
      ],
      "metadata": {
        "id": "6IYO4wnMKan7"
      }
    },
    {
      "cell_type": "markdown",
      "source": [
        "## Importando Dados e Bibliotecas"
      ],
      "metadata": {
        "id": "rHAaKU5nKctz"
      }
    },
    {
      "cell_type": "code",
      "source": [
        "# importar os pacotes necessarios\n",
        "import pandas as pd\n",
        "import numpy as np\n",
        "import matplotlib.pyplot as plt\n",
        "import seaborn as sns"
      ],
      "metadata": {
        "id": "aH6oqkpOeYCq"
      },
      "execution_count": 1,
      "outputs": []
    },
    {
      "cell_type": "code",
      "source": [
        "# importar a base de dados de Singapura do Airbnb\n",
        "df = pd.read_csv('/content/M1_AirBNB_Singapura.csv')"
      ],
      "metadata": {
        "id": "1pJVaO0-KehF"
      },
      "execution_count": 2,
      "outputs": []
    },
    {
      "cell_type": "markdown",
      "source": [
        "## Análise dos Dados"
      ],
      "metadata": {
        "id": "KC_hpbX4KiF1"
      }
    },
    {
      "cell_type": "markdown",
      "source": [
        "### Conhecendo os Dados\n",
        "\n",
        "Antes de tudo, vamos iniciar a análise conhecendo nossos dados, verificando quais as suas variáveis, o que elas significam e produzindo um **Dicionário das Variáveis**."
      ],
      "metadata": {
        "id": "vUpqiR5dKofo"
      }
    },
    {
      "cell_type": "code",
      "source": [
        "# Verificar as 5 primeiras entradas do dataset\n",
        "df.head()"
      ],
      "metadata": {
        "colab": {
          "base_uri": "https://localhost:8080/",
          "height": 444
        },
        "id": "qE5Tjj4cKjje",
        "outputId": "260f2fb6-0495-475c-a06e-cc545124470b"
      },
      "execution_count": null,
      "outputs": [
        {
          "output_type": "execute_result",
          "data": {
            "text/plain": [
              "                   id                                              name  \\\n",
              "0  595549893585733310  HCK[R&F] 2BR 2-4pax City View/Walk CIQ/Sunset@JB   \n",
              "1               50646                   Pleasant Room along Bukit Timah   \n",
              "2               71609               Ensuite Room (Room 1 & 2) near EXPO   \n",
              "3               71896                   B&B  Room 1 near Airport & EXPO   \n",
              "4               71903                        Room 2-near Airport & EXPO   \n",
              "\n",
              "    host_id host_name neighbourhood_group neighbourhood  latitude  longitude  \\\n",
              "0  95993346     Kylie        North Region     Woodlands   1.45838  103.77033   \n",
              "1    227796   Sujatha      Central Region   Bukit Timah   1.33432  103.78521   \n",
              "2    367042   Belinda         East Region      Tampines   1.34537  103.95887   \n",
              "3    367042   Belinda         East Region      Tampines   1.34754  103.95958   \n",
              "4    367042   Belinda         East Region      Tampines   1.34531  103.96100   \n",
              "\n",
              "         room_type  price  minimum_nights  number_of_reviews last_review  \\\n",
              "0  Entire home/apt     58               1                  8  2022-05-01   \n",
              "1     Private room     80              92                 18  2014-12-26   \n",
              "2     Private room    143              92                 20  2020-01-17   \n",
              "3     Private room     83              92                 24  2019-10-13   \n",
              "4     Private room     83              92                 47  2020-01-09   \n",
              "\n",
              "   reviews_per_month  calculated_host_listings_count  availability_365  \\\n",
              "0               3.43                               1                18   \n",
              "1               0.18                               1               365   \n",
              "2               0.16                               6               365   \n",
              "3               0.18                               6               365   \n",
              "4               0.35                               6               365   \n",
              "\n",
              "   number_of_reviews_ltm license  \n",
              "0                      8     NaN  \n",
              "1                      0     NaN  \n",
              "2                      0     NaN  \n",
              "3                      0     NaN  \n",
              "4                      0     NaN  "
            ],
            "text/html": [
              "\n",
              "  <div id=\"df-2410ff76-72f9-42fe-8c01-a06ec1282da7\">\n",
              "    <div class=\"colab-df-container\">\n",
              "      <div>\n",
              "<style scoped>\n",
              "    .dataframe tbody tr th:only-of-type {\n",
              "        vertical-align: middle;\n",
              "    }\n",
              "\n",
              "    .dataframe tbody tr th {\n",
              "        vertical-align: top;\n",
              "    }\n",
              "\n",
              "    .dataframe thead th {\n",
              "        text-align: right;\n",
              "    }\n",
              "</style>\n",
              "<table border=\"1\" class=\"dataframe\">\n",
              "  <thead>\n",
              "    <tr style=\"text-align: right;\">\n",
              "      <th></th>\n",
              "      <th>id</th>\n",
              "      <th>name</th>\n",
              "      <th>host_id</th>\n",
              "      <th>host_name</th>\n",
              "      <th>neighbourhood_group</th>\n",
              "      <th>neighbourhood</th>\n",
              "      <th>latitude</th>\n",
              "      <th>longitude</th>\n",
              "      <th>room_type</th>\n",
              "      <th>price</th>\n",
              "      <th>minimum_nights</th>\n",
              "      <th>number_of_reviews</th>\n",
              "      <th>last_review</th>\n",
              "      <th>reviews_per_month</th>\n",
              "      <th>calculated_host_listings_count</th>\n",
              "      <th>availability_365</th>\n",
              "      <th>number_of_reviews_ltm</th>\n",
              "      <th>license</th>\n",
              "    </tr>\n",
              "  </thead>\n",
              "  <tbody>\n",
              "    <tr>\n",
              "      <th>0</th>\n",
              "      <td>595549893585733310</td>\n",
              "      <td>HCK[R&amp;F] 2BR 2-4pax City View/Walk CIQ/Sunset@JB</td>\n",
              "      <td>95993346</td>\n",
              "      <td>Kylie</td>\n",
              "      <td>North Region</td>\n",
              "      <td>Woodlands</td>\n",
              "      <td>1.45838</td>\n",
              "      <td>103.77033</td>\n",
              "      <td>Entire home/apt</td>\n",
              "      <td>58</td>\n",
              "      <td>1</td>\n",
              "      <td>8</td>\n",
              "      <td>2022-05-01</td>\n",
              "      <td>3.43</td>\n",
              "      <td>1</td>\n",
              "      <td>18</td>\n",
              "      <td>8</td>\n",
              "      <td>NaN</td>\n",
              "    </tr>\n",
              "    <tr>\n",
              "      <th>1</th>\n",
              "      <td>50646</td>\n",
              "      <td>Pleasant Room along Bukit Timah</td>\n",
              "      <td>227796</td>\n",
              "      <td>Sujatha</td>\n",
              "      <td>Central Region</td>\n",
              "      <td>Bukit Timah</td>\n",
              "      <td>1.33432</td>\n",
              "      <td>103.78521</td>\n",
              "      <td>Private room</td>\n",
              "      <td>80</td>\n",
              "      <td>92</td>\n",
              "      <td>18</td>\n",
              "      <td>2014-12-26</td>\n",
              "      <td>0.18</td>\n",
              "      <td>1</td>\n",
              "      <td>365</td>\n",
              "      <td>0</td>\n",
              "      <td>NaN</td>\n",
              "    </tr>\n",
              "    <tr>\n",
              "      <th>2</th>\n",
              "      <td>71609</td>\n",
              "      <td>Ensuite Room (Room 1 &amp; 2) near EXPO</td>\n",
              "      <td>367042</td>\n",
              "      <td>Belinda</td>\n",
              "      <td>East Region</td>\n",
              "      <td>Tampines</td>\n",
              "      <td>1.34537</td>\n",
              "      <td>103.95887</td>\n",
              "      <td>Private room</td>\n",
              "      <td>143</td>\n",
              "      <td>92</td>\n",
              "      <td>20</td>\n",
              "      <td>2020-01-17</td>\n",
              "      <td>0.16</td>\n",
              "      <td>6</td>\n",
              "      <td>365</td>\n",
              "      <td>0</td>\n",
              "      <td>NaN</td>\n",
              "    </tr>\n",
              "    <tr>\n",
              "      <th>3</th>\n",
              "      <td>71896</td>\n",
              "      <td>B&amp;B  Room 1 near Airport &amp; EXPO</td>\n",
              "      <td>367042</td>\n",
              "      <td>Belinda</td>\n",
              "      <td>East Region</td>\n",
              "      <td>Tampines</td>\n",
              "      <td>1.34754</td>\n",
              "      <td>103.95958</td>\n",
              "      <td>Private room</td>\n",
              "      <td>83</td>\n",
              "      <td>92</td>\n",
              "      <td>24</td>\n",
              "      <td>2019-10-13</td>\n",
              "      <td>0.18</td>\n",
              "      <td>6</td>\n",
              "      <td>365</td>\n",
              "      <td>0</td>\n",
              "      <td>NaN</td>\n",
              "    </tr>\n",
              "    <tr>\n",
              "      <th>4</th>\n",
              "      <td>71903</td>\n",
              "      <td>Room 2-near Airport &amp; EXPO</td>\n",
              "      <td>367042</td>\n",
              "      <td>Belinda</td>\n",
              "      <td>East Region</td>\n",
              "      <td>Tampines</td>\n",
              "      <td>1.34531</td>\n",
              "      <td>103.96100</td>\n",
              "      <td>Private room</td>\n",
              "      <td>83</td>\n",
              "      <td>92</td>\n",
              "      <td>47</td>\n",
              "      <td>2020-01-09</td>\n",
              "      <td>0.35</td>\n",
              "      <td>6</td>\n",
              "      <td>365</td>\n",
              "      <td>0</td>\n",
              "      <td>NaN</td>\n",
              "    </tr>\n",
              "  </tbody>\n",
              "</table>\n",
              "</div>\n",
              "      <button class=\"colab-df-convert\" onclick=\"convertToInteractive('df-2410ff76-72f9-42fe-8c01-a06ec1282da7')\"\n",
              "              title=\"Convert this dataframe to an interactive table.\"\n",
              "              style=\"display:none;\">\n",
              "        \n",
              "  <svg xmlns=\"http://www.w3.org/2000/svg\" height=\"24px\"viewBox=\"0 0 24 24\"\n",
              "       width=\"24px\">\n",
              "    <path d=\"M0 0h24v24H0V0z\" fill=\"none\"/>\n",
              "    <path d=\"M18.56 5.44l.94 2.06.94-2.06 2.06-.94-2.06-.94-.94-2.06-.94 2.06-2.06.94zm-11 1L8.5 8.5l.94-2.06 2.06-.94-2.06-.94L8.5 2.5l-.94 2.06-2.06.94zm10 10l.94 2.06.94-2.06 2.06-.94-2.06-.94-.94-2.06-.94 2.06-2.06.94z\"/><path d=\"M17.41 7.96l-1.37-1.37c-.4-.4-.92-.59-1.43-.59-.52 0-1.04.2-1.43.59L10.3 9.45l-7.72 7.72c-.78.78-.78 2.05 0 2.83L4 21.41c.39.39.9.59 1.41.59.51 0 1.02-.2 1.41-.59l7.78-7.78 2.81-2.81c.8-.78.8-2.07 0-2.86zM5.41 20L4 18.59l7.72-7.72 1.47 1.35L5.41 20z\"/>\n",
              "  </svg>\n",
              "      </button>\n",
              "      \n",
              "  <style>\n",
              "    .colab-df-container {\n",
              "      display:flex;\n",
              "      flex-wrap:wrap;\n",
              "      gap: 12px;\n",
              "    }\n",
              "\n",
              "    .colab-df-convert {\n",
              "      background-color: #E8F0FE;\n",
              "      border: none;\n",
              "      border-radius: 50%;\n",
              "      cursor: pointer;\n",
              "      display: none;\n",
              "      fill: #1967D2;\n",
              "      height: 32px;\n",
              "      padding: 0 0 0 0;\n",
              "      width: 32px;\n",
              "    }\n",
              "\n",
              "    .colab-df-convert:hover {\n",
              "      background-color: #E2EBFA;\n",
              "      box-shadow: 0px 1px 2px rgba(60, 64, 67, 0.3), 0px 1px 3px 1px rgba(60, 64, 67, 0.15);\n",
              "      fill: #174EA6;\n",
              "    }\n",
              "\n",
              "    [theme=dark] .colab-df-convert {\n",
              "      background-color: #3B4455;\n",
              "      fill: #D2E3FC;\n",
              "    }\n",
              "\n",
              "    [theme=dark] .colab-df-convert:hover {\n",
              "      background-color: #434B5C;\n",
              "      box-shadow: 0px 1px 3px 1px rgba(0, 0, 0, 0.15);\n",
              "      filter: drop-shadow(0px 1px 2px rgba(0, 0, 0, 0.3));\n",
              "      fill: #FFFFFF;\n",
              "    }\n",
              "  </style>\n",
              "\n",
              "      <script>\n",
              "        const buttonEl =\n",
              "          document.querySelector('#df-2410ff76-72f9-42fe-8c01-a06ec1282da7 button.colab-df-convert');\n",
              "        buttonEl.style.display =\n",
              "          google.colab.kernel.accessAllowed ? 'block' : 'none';\n",
              "\n",
              "        async function convertToInteractive(key) {\n",
              "          const element = document.querySelector('#df-2410ff76-72f9-42fe-8c01-a06ec1282da7');\n",
              "          const dataTable =\n",
              "            await google.colab.kernel.invokeFunction('convertToInteractive',\n",
              "                                                     [key], {});\n",
              "          if (!dataTable) return;\n",
              "\n",
              "          const docLinkHtml = 'Like what you see? Visit the ' +\n",
              "            '<a target=\"_blank\" href=https://colab.research.google.com/notebooks/data_table.ipynb>data table notebook</a>'\n",
              "            + ' to learn more about interactive tables.';\n",
              "          element.innerHTML = '';\n",
              "          dataTable['output_type'] = 'display_data';\n",
              "          await google.colab.output.renderOutput(dataTable, element);\n",
              "          const docLink = document.createElement('div');\n",
              "          docLink.innerHTML = docLinkHtml;\n",
              "          element.appendChild(docLink);\n",
              "        }\n",
              "      </script>\n",
              "    </div>\n",
              "  </div>\n",
              "  "
            ]
          },
          "metadata": {},
          "execution_count": 3
        }
      ]
    },
    {
      "cell_type": "code",
      "source": [
        "# Identificar o volume de dados do DataFrame\n",
        "print(\"o número de entradas é:\",df.shape[0])\n",
        "print(\"o número de atributos deste dataset é:\",df.shape[1])"
      ],
      "metadata": {
        "colab": {
          "base_uri": "https://localhost:8080/"
        },
        "id": "-PMqjLUqKqoB",
        "outputId": "8e5898c8-59b4-481b-9d92-d55a8a956558"
      },
      "execution_count": null,
      "outputs": [
        {
          "output_type": "stream",
          "name": "stdout",
          "text": [
            "o número de entradas é: 4099\n",
            "o número de atributos deste dataset é: 18\n"
          ]
        }
      ]
    },
    {
      "cell_type": "markdown",
      "source": [
        "**Dicionário das variáveis**\n",
        "\n",
        "A criação de um dicionário das variáveis é um método que nos permite ter uma maior afinidade com os dados, além de deixar tudo organizado para caso, em algum momento, revisitemos o dataset, ou mesmo, caso outra pessoa venha a contribuir com a nossa análise. Caso se tenha dois monitores, é interessante deixar o dicionário separado em um deles. <br/>\n",
        "\n",
        "A seguir, estão as definições de cada uma das variáveis encontradas no dataset do airbnb:\n",
        "\n",
        "* **id:** id de entrada da locação\n",
        "* **name:** nome da locação\n",
        "* **host_id:** id do locador\n",
        "* **host_name:** nome do locador\n",
        "* **neighbourhood_group:** região que o quarto/imóvel se encontra\n",
        "* **neighbourhood:** bairro/região da cidade\n",
        "* **latitude:** coordenada geográfica do quarto/imóvel (como se fosse o eixo y do mapa)\n",
        "* **longitude:** coordenada geográfica do quarto/imóvel (como se fosse o eixo x do mapa)\n",
        "* **room_type:** tipo de locação (quarto, apartamento completo, etc.)\n",
        "* **price:** preço por noite da locação (em SGD)\n",
        "* **minimum_nights:** mínimo de noites que o locador determinou\n",
        "* **number_of_reviews:** número de avaliações da locação\n",
        "* **last_review:** data da última avaliação da locação\n",
        "* **reviews_per_month:** número de avaliações por mês\n",
        "* **calculated_host_listings_count:** quantos quartos/imóveis o host tem registrado no banco de dados\n",
        "* **availability_365:** disponibilidade (quantos dias no ano pode ser alugada)\n",
        "* **number_of_reviews_ltm:** número de avaliações no último ano (ltm = last tweve month)\n",
        "* **license:** licença para estabelecimentos comerciais"
      ],
      "metadata": {
        "id": "Xqat2uwYKu4r"
      }
    },
    {
      "cell_type": "markdown",
      "source": [
        "### Limpeza de Dados\n",
        "\n",
        "Agora que já sabemos do que se tratam as variáveis do nosso dataset, podemos eliminar as informações desnecessárias (à nossa análise), verificar os dados faltantes e tratá-los."
      ],
      "metadata": {
        "id": "V0zBBt-cKxR1"
      }
    },
    {
      "cell_type": "code",
      "source": [
        "#Vamos eliminar colunas que não vão agregar à nossa análise\n",
        "df = df.drop(['name','id','host_id','host_name'],axis=1)"
      ],
      "metadata": {
        "id": "yabW0HMEKxpE"
      },
      "execution_count": 3,
      "outputs": []
    },
    {
      "cell_type": "code",
      "source": [
        "#Verificar a porcentagem de dados faltantes em cada coluna\n",
        "(df.isnull().sum()/df.shape[0]).sort_values(ascending=False)"
      ],
      "metadata": {
        "colab": {
          "base_uri": "https://localhost:8080/"
        },
        "id": "_oP6UddyKza9",
        "outputId": "3fc141f5-6f87-443e-c2f5-473029158b7d"
      },
      "execution_count": null,
      "outputs": [
        {
          "output_type": "execute_result",
          "data": {
            "text/plain": [
              "license                           0.823859\n",
              "last_review                       0.389851\n",
              "reviews_per_month                 0.389851\n",
              "neighbourhood_group               0.000000\n",
              "neighbourhood                     0.000000\n",
              "latitude                          0.000000\n",
              "longitude                         0.000000\n",
              "room_type                         0.000000\n",
              "price                             0.000000\n",
              "minimum_nights                    0.000000\n",
              "number_of_reviews                 0.000000\n",
              "calculated_host_listings_count    0.000000\n",
              "availability_365                  0.000000\n",
              "number_of_reviews_ltm             0.000000\n",
              "dtype: float64"
            ]
          },
          "metadata": {},
          "execution_count": 7
        }
      ]
    },
    {
      "cell_type": "markdown",
      "source": [
        "Verifiquemos que somente as colunas license, last_review e reviews_per_month possuem dados faltantes, sendo que a coluna license provavelmente deve ser devido à não existência do licenciamento do quarto/imóvel, ou seja, foi publicado por uma pessoa física. <br/>\n",
        "\n",
        "Outra coisa que podemos notar é que reviews_per_month e last_review possuem o mesmo número de dados faltantes. Verifiquemos a seguir se o número de avaliações destas locações são iguais a zero."
      ],
      "metadata": {
        "id": "0fKV1cE8K3FO"
      }
    },
    {
      "cell_type": "code",
      "source": [
        "# Soma o número de avaliações das locações que tem a coluna last_review nula\n",
        "df[df.last_review.isnull()].number_of_reviews.sum()"
      ],
      "metadata": {
        "colab": {
          "base_uri": "https://localhost:8080/"
        },
        "id": "_ZOgT76nK0dF",
        "outputId": "97f6fb26-abba-49cc-d423-dcb69b8dab47"
      },
      "execution_count": null,
      "outputs": [
        {
          "output_type": "execute_result",
          "data": {
            "text/plain": [
              "0"
            ]
          },
          "metadata": {},
          "execution_count": 8
        }
      ]
    },
    {
      "cell_type": "code",
      "source": [
        "# Soma o número de avaliações das locações que tem a coluna reviews_per_month nula\n",
        "df[df.reviews_per_month.isnull()].number_of_reviews.sum()"
      ],
      "metadata": {
        "colab": {
          "base_uri": "https://localhost:8080/"
        },
        "id": "8nzGfaqqK4V3",
        "outputId": "cff546cb-cda9-4f00-e80e-49a493943dd9"
      },
      "execution_count": null,
      "outputs": [
        {
          "output_type": "execute_result",
          "data": {
            "text/plain": [
              "0"
            ]
          },
          "metadata": {},
          "execution_count": 9
        }
      ]
    },
    {
      "cell_type": "markdown",
      "source": [
        "Concluímos então que os dados nulos na verdade contém informações para o nosso dataset. Tenhamos em mente que a base de dados já foi previamente tratada pelos funcionários do airbnb. \\\\\n",
        "A partir das descobertas acima, proponho então substituir os dados nulos da coluna 'reviews_per_month' por zero e os da coluna 'license' pela string 'No license'."
      ],
      "metadata": {
        "id": "Oe-nv8jIK8vR"
      }
    },
    {
      "cell_type": "code",
      "source": [
        "# Substitui os dados nulos da coluna license\n",
        "df.license.replace(np.nan, 'No license', inplace=True)"
      ],
      "metadata": {
        "id": "6W5LdDpaK6Rv"
      },
      "execution_count": 4,
      "outputs": []
    },
    {
      "cell_type": "code",
      "source": [
        "# Substitui os dados nulos da coluna reviews_per_month\n",
        "df.reviews_per_month.replace(np.nan, 0, inplace=True)"
      ],
      "metadata": {
        "id": "a2VqUWkIK-TI"
      },
      "execution_count": 5,
      "outputs": []
    },
    {
      "cell_type": "markdown",
      "source": [
        "Agora temos os dados limpos, com exceção da coluna last_review. Porém, caso queiramos utilizá-la para alguma análise, criamos uma cópia do dataframe, eliminamos os valores nulos e fazemos uma análise isolada."
      ],
      "metadata": {
        "id": "CQtcn_CsLCEL"
      }
    },
    {
      "cell_type": "code",
      "source": [
        "# Verificar os tipos de variáveis\n",
        "df.info()"
      ],
      "metadata": {
        "colab": {
          "base_uri": "https://localhost:8080/"
        },
        "id": "zj0zeIUVK_YZ",
        "outputId": "4f238f74-47da-4389-db84-568faee8cc92"
      },
      "execution_count": null,
      "outputs": [
        {
          "output_type": "stream",
          "name": "stdout",
          "text": [
            "<class 'pandas.core.frame.DataFrame'>\n",
            "RangeIndex: 4099 entries, 0 to 4098\n",
            "Data columns (total 14 columns):\n",
            " #   Column                          Non-Null Count  Dtype  \n",
            "---  ------                          --------------  -----  \n",
            " 0   neighbourhood_group             4099 non-null   object \n",
            " 1   neighbourhood                   4099 non-null   object \n",
            " 2   latitude                        4099 non-null   float64\n",
            " 3   longitude                       4099 non-null   float64\n",
            " 4   room_type                       4099 non-null   object \n",
            " 5   price                           4099 non-null   int64  \n",
            " 6   minimum_nights                  4099 non-null   int64  \n",
            " 7   number_of_reviews               4099 non-null   int64  \n",
            " 8   last_review                     2501 non-null   object \n",
            " 9   reviews_per_month               4099 non-null   float64\n",
            " 10  calculated_host_listings_count  4099 non-null   int64  \n",
            " 11  availability_365                4099 non-null   int64  \n",
            " 12  number_of_reviews_ltm           4099 non-null   int64  \n",
            " 13  license                         4099 non-null   object \n",
            "dtypes: float64(3), int64(6), object(5)\n",
            "memory usage: 448.5+ KB\n"
          ]
        }
      ]
    },
    {
      "cell_type": "markdown",
      "source": [
        "O único dado que pode ser modificado aqui é o da coluna last_review que pode ser modificado para uma pandas datetime."
      ],
      "metadata": {
        "id": "zPaorWsULFz0"
      }
    },
    {
      "cell_type": "code",
      "source": [
        "# O único dado que precisa ser modificado\n",
        "df.last_review = pd.to_datetime(df.last_review)"
      ],
      "metadata": {
        "id": "KQNET_mGLDOK"
      },
      "execution_count": 6,
      "outputs": []
    },
    {
      "cell_type": "code",
      "source": [
        "# Verificando se deu certo\n",
        "df.info()"
      ],
      "metadata": {
        "colab": {
          "base_uri": "https://localhost:8080/"
        },
        "id": "JoainTb6LHLM",
        "outputId": "c91980ed-4e6f-4f79-c6ac-24b57e71292e"
      },
      "execution_count": null,
      "outputs": [
        {
          "output_type": "stream",
          "name": "stdout",
          "text": [
            "<class 'pandas.core.frame.DataFrame'>\n",
            "RangeIndex: 4099 entries, 0 to 4098\n",
            "Data columns (total 14 columns):\n",
            " #   Column                          Non-Null Count  Dtype         \n",
            "---  ------                          --------------  -----         \n",
            " 0   neighbourhood_group             4099 non-null   object        \n",
            " 1   neighbourhood                   4099 non-null   object        \n",
            " 2   latitude                        4099 non-null   float64       \n",
            " 3   longitude                       4099 non-null   float64       \n",
            " 4   room_type                       4099 non-null   object        \n",
            " 5   price                           4099 non-null   int64         \n",
            " 6   minimum_nights                  4099 non-null   int64         \n",
            " 7   number_of_reviews               4099 non-null   int64         \n",
            " 8   last_review                     2501 non-null   datetime64[ns]\n",
            " 9   reviews_per_month               4099 non-null   float64       \n",
            " 10  calculated_host_listings_count  4099 non-null   int64         \n",
            " 11  availability_365                4099 non-null   int64         \n",
            " 12  number_of_reviews_ltm           4099 non-null   int64         \n",
            " 13  license                         4099 non-null   object        \n",
            "dtypes: datetime64[ns](1), float64(3), int64(6), object(4)\n",
            "memory usage: 448.5+ KB\n"
          ]
        }
      ]
    },
    {
      "cell_type": "markdown",
      "source": [
        "### Distribuições das Variáveis\n",
        "\n",
        "Nesta etapa, vamos conhecer um pouco melhor o comportamento das variáveis através das suas distribuições."
      ],
      "metadata": {
        "id": "EFp8PBVRLKlO"
      }
    },
    {
      "cell_type": "code",
      "source": [
        "# Deixar o visual do matplotlib mais agradável\n",
        "plt.style.use('seaborn')"
      ],
      "metadata": {
        "id": "B2hVwa04ONqn"
      },
      "execution_count": 32,
      "outputs": []
    },
    {
      "cell_type": "code",
      "source": [
        "# Visualizando a distribuição dos dados\n",
        "df.hist(figsize=(15,10),grid=False);"
      ],
      "metadata": {
        "colab": {
          "base_uri": "https://localhost:8080/",
          "height": 705
        },
        "id": "JEOJSnapLIak",
        "outputId": "10ebaa02-4dfe-4ae1-fa06-eff05a81dd2c"
      },
      "execution_count": null,
      "outputs": [
        {
          "output_type": "display_data",
          "data": {
            "text/plain": [
              "<Figure size 1200x800 with 12 Axes>"
            ],
            "image/png": "[encoded data removed]"
          },
          "metadata": {}
        }
      ]
    },
    {
      "cell_type": "markdown",
      "source": [
        "Aqui verificamos que a maioria das variáveis possuem distribuição assimétrica e podemos já extrair algumas informações:\n",
        "1. Com base na distribuição da latitude e longitude, provavelmente as locações se concentram em determinada região.\n",
        "2. A última avaliação dos usuários se concentra no ano de 2022, mesma data que foi publicado este dataset, mostrando que as locações possuem bastante rotatividade.\n",
        "3. A quantidade de locações por locador, número de reviews (totais, por mes, ltm) e mínimo de noites se concentra nos intervalos com os menores valores do dataset.\n",
        "4. A disponibilidade das locações se concentra no intervalo com os maiores valores, ou seja, tendem a estar o ano inteiro disponível para locação.\n",
        "5. Os preços tendem a estar no intervalo com os menores valores, indicando que a famosa métrica estatística, a média, não é adequada para mensurar os preços das locações. Portanto, utilizaremos a mediana. "
      ],
      "metadata": {
        "id": "pZlJ41MNLPB4"
      }
    },
    {
      "cell_type": "markdown",
      "source": [
        "### Removendo Outliers\n",
        "Como é possível visualizar nas distribuições acima, existem muitos *outliers* que podem comprometer a análise, então vamos tratá-los utilizando o **IQR Method**. \n",
        "\n",
        "Este método consiste em calcular o intervalo interquartil (IQR) e, em seguida, a partir do primeiro e terceiro quartil, calcular 1.5 IQR para cima e para baixo para definir o intervalo em que os dados devem ficar, sendo os dados que transgredirem este intervalo sendo considerados *outliers*."
      ],
      "metadata": {
        "id": "VZSR_QaiLMMY"
      }
    },
    {
      "cell_type": "markdown",
      "source": [
        "#### *Outliers* da variável preço\n",
        "A variável preço é a variável mais importante do dataset e tem claros indícios de *outliers* através da visualização do histograma. Vamos verificar seu IQR e aplicar o IQR Method para eliminar os *outliers*."
      ],
      "metadata": {
        "id": "Op60eHW9REaN"
      }
    },
    {
      "cell_type": "code",
      "source": [
        "# Calculando o primeiro e terceiro quartil para a coluna price\n",
        "q1_price = df.price.quantile(.25)\n",
        "q3_price = df.price.quantile(.75)\n",
        "\n",
        "# Calculando o intervalo interquartil\n",
        "IQR_price = q3_price - q1_price\n",
        "print('IQR da variável price: ', IQR_price)\n",
        "\n",
        "# definindo os limites inferior e superior                                      \n",
        "sup_price = q3_price + 1.5 * IQR_price\n",
        "inf_price = q1_price - 1.5 * IQR_price\n",
        "\n",
        "print('Limite superior do preço: ', sup_price)\n",
        "print('Limite inferior do preço: ', inf_price)"
      ],
      "metadata": {
        "colab": {
          "base_uri": "https://localhost:8080/"
        },
        "id": "o-SWvXNeLSbZ",
        "outputId": "45e412e7-2b4e-4922-f00b-4779486980cc"
      },
      "execution_count": 8,
      "outputs": [
        {
          "output_type": "stream",
          "name": "stdout",
          "text": [
            "IQR da variável price:  141.0\n",
            "Limite superior do preço:  411.5\n",
            "Limite inferior do preço:  -152.5\n"
          ]
        }
      ]
    },
    {
      "cell_type": "code",
      "source": [
        "print(\"O número de outliers para a variável preço é:\",df[df.price > 411.5].shape[0])"
      ],
      "metadata": {
        "colab": {
          "base_uri": "https://localhost:8080/"
        },
        "id": "jsN-HMTyLSqQ",
        "outputId": "f0c22852-8d33-480c-94a9-4083b4c91d34"
      },
      "execution_count": null,
      "outputs": [
        {
          "output_type": "stream",
          "name": "stdout",
          "text": [
            "O número de outliers para a variável preço é: 346\n"
          ]
        }
      ]
    },
    {
      "cell_type": "code",
      "source": [
        "# Identificando um dado que não faz sentido, ninguém vai alugar de graça\n",
        "df[df.price == 0].shape[0]"
      ],
      "metadata": {
        "colab": {
          "base_uri": "https://localhost:8080/"
        },
        "id": "sbA9GPkWLS4K",
        "outputId": "8fe85244-e1d3-4bb0-ef48-6c4264fc0ed6"
      },
      "execution_count": null,
      "outputs": [
        {
          "output_type": "execute_result",
          "data": {
            "text/plain": [
              "1"
            ]
          },
          "metadata": {},
          "execution_count": 19
        }
      ]
    },
    {
      "cell_type": "markdown",
      "source": [
        "Mãos à obra, agora que os identificamos, basta excluí-los."
      ],
      "metadata": {
        "id": "uSR-ejzaQD-8"
      }
    },
    {
      "cell_type": "code",
      "source": [
        "# Exclui os outliers\n",
        "df.drop((df[df.price > 411.5]).index, axis=0, inplace=True)\n",
        "\n",
        "# Exclui o imóvel de graça\n",
        "df.drop((df[df.price == 0]).index, axis=0, inplace=True)"
      ],
      "metadata": {
        "id": "flP_vf6MLTIC"
      },
      "execution_count": 7,
      "outputs": []
    },
    {
      "cell_type": "markdown",
      "source": [
        "#### *Outliers* da variável noites mínimas\n",
        "Tendo em vista o modelo de negócios do Airbnb, o número mínimo de noites deve estar adequado à realidade do aplicativo. Portanto, números elevados de noites mínimas possuem uma alta probabilidade de serem *outliers*, portanto vamos eliminá-los."
      ],
      "metadata": {
        "id": "-116TCDuRK-p"
      }
    },
    {
      "cell_type": "code",
      "source": [
        "# Calculando o primeiro e terceiro quartil para a coluna minimum_nights\n",
        "q1_minimum_nights = df.minimum_nights.quantile(.25)\n",
        "q3_minimum_nights = df.minimum_nights.quantile(.75)\n",
        "\n",
        "# Calculando o intervalo interquartil\n",
        "IQR_minimum_nights = q3_minimum_nights - q1_minimum_nights\n",
        "print('IQR da variável minimum_nights: ', IQR_minimum_nights)\n",
        "\n",
        "# definindo os limites inferior e superior                                      \n",
        "sup_minimum_nights = q3_minimum_nights + 1.5 * IQR_minimum_nights\n",
        "inf_minimum_nights = q1_minimum_nights - 1.5 * IQR_minimum_nights\n",
        "\n",
        "print('Limite superior do preço: ', sup_minimum_nights)\n",
        "print('Limite inferior do preço: ', inf_minimum_nights)"
      ],
      "metadata": {
        "colab": {
          "base_uri": "https://localhost:8080/"
        },
        "id": "Iicy9zmKRDB9",
        "outputId": "633ef16c-18c3-4009-e080-aea7fd0ef8a3"
      },
      "execution_count": 10,
      "outputs": [
        {
          "output_type": "stream",
          "name": "stdout",
          "text": [
            "IQR da variável minimum_nights:  91.0\n",
            "Limite superior do preço:  228.5\n",
            "Limite inferior do preço:  -135.5\n"
          ]
        }
      ]
    },
    {
      "cell_type": "code",
      "source": [
        "print(\"O número de outliers para a variável preço é:\",df[df.minimum_nights > 228.5].shape[0])"
      ],
      "metadata": {
        "colab": {
          "base_uri": "https://localhost:8080/"
        },
        "id": "y8yplYVbSmj0",
        "outputId": "7253bbac-9315-4e9a-de8e-4ab90ab23f36"
      },
      "execution_count": null,
      "outputs": [
        {
          "output_type": "stream",
          "name": "stdout",
          "text": [
            "O número de outliers para a variável preço é: 57\n"
          ]
        }
      ]
    },
    {
      "cell_type": "code",
      "source": [
        "# Exclui os outliers\n",
        "df.drop((df[df.minimum_nights > 228.5]).index, axis=0, inplace=True)"
      ],
      "metadata": {
        "id": "wyARLSDfS-Iw"
      },
      "execution_count": 8,
      "outputs": []
    },
    {
      "cell_type": "markdown",
      "source": [
        "A seguir, verificamos novamente como estão as distribuições após aplicar o método de detecção de *outliers*."
      ],
      "metadata": {
        "id": "xhOaSwifdnZq"
      }
    },
    {
      "cell_type": "code",
      "source": [
        "df.hist(figsize=(15,10),grid=False);"
      ],
      "metadata": {
        "colab": {
          "base_uri": "https://localhost:8080/",
          "height": 705
        },
        "id": "CBAT1nhDbBD5",
        "outputId": "673420c2-f6b0-4328-cf77-5a9e62f68652"
      },
      "execution_count": 34,
      "outputs": [
        {
          "output_type": "display_data",
          "data": {
            "text/plain": [
              "<Figure size 1200x800 with 12 Axes>"
            ],
            "image/png": "[encoded data removed]"
          },
          "metadata": {}
        }
      ]
    },
    {
      "cell_type": "markdown",
      "source": [
        "### Principais Informações Descritivas\n",
        "\n",
        "Agora que já estamos com os dados devidamente tratandos, vamos nos familiarizar um pouco melhor com os dados, através das informações mais \"óbvias\" do dataset. Após isto, aprofundaremos a análise."
      ],
      "metadata": {
        "id": "DPxmZ4UyLQwZ"
      }
    },
    {
      "cell_type": "code",
      "source": [
        "# Verificar a mediana dos preços de hospedagem\n",
        "df.price.median()"
      ],
      "metadata": {
        "colab": {
          "base_uri": "https://localhost:8080/"
        },
        "id": "Vn79fME7LMHO",
        "outputId": "8991874a-2fca-4094-934f-028c314851de"
      },
      "execution_count": 57,
      "outputs": [
        {
          "output_type": "execute_result",
          "data": {
            "text/plain": [
              "100.0"
            ]
          },
          "metadata": {},
          "execution_count": 57
        }
      ]
    },
    {
      "cell_type": "code",
      "source": [
        "# Verificar a mediana do mínimo de noites estabelecida pelo locador\n",
        "df.minimum_nights.median()"
      ],
      "metadata": {
        "colab": {
          "base_uri": "https://localhost:8080/"
        },
        "id": "38G-hW-ILSpJ",
        "outputId": "2e6a7401-4c71-4480-dfb1-4536963188e0"
      },
      "execution_count": 58,
      "outputs": [
        {
          "output_type": "execute_result",
          "data": {
            "text/plain": [
              "92.0"
            ]
          },
          "metadata": {},
          "execution_count": 58
        }
      ]
    },
    {
      "cell_type": "code",
      "source": [
        "# Visualizar melhor os dados de noites mínimas\n",
        "df.minimum_nights[df.minimum_nights < 100].plot.hist(bins=20);"
      ],
      "metadata": {
        "colab": {
          "base_uri": "https://localhost:8080/",
          "height": 407
        },
        "id": "D49wmHDzLT8B",
        "outputId": "4f58d42a-ca8d-4870-c4f0-cc01803265bc"
      },
      "execution_count": 59,
      "outputs": [
        {
          "output_type": "display_data",
          "data": {
            "text/plain": [
              "<Figure size 640x440 with 1 Axes>"
            ],
            "image/png": "[encoded data removed]"
          },
          "metadata": {}
        }
      ]
    },
    {
      "cell_type": "code",
      "source": [
        "# Verificar quantas entradas abaixo de 20 dias (em %)\n",
        "df.minimum_nights[df.minimum_nights < 20].shape[0] / df.shape[0]"
      ],
      "metadata": {
        "colab": {
          "base_uri": "https://localhost:8080/"
        },
        "id": "Ez0vvvsHLVVJ",
        "outputId": "79d4db3f-dd7a-427e-9ca1-a8972b7ad5e2"
      },
      "execution_count": 38,
      "outputs": [
        {
          "output_type": "execute_result",
          "data": {
            "text/plain": [
              "0.39025710419485793"
            ]
          },
          "metadata": {},
          "execution_count": 38
        }
      ]
    },
    {
      "cell_type": "code",
      "source": [
        "# Verificar quantas entradas entre 80 e 100 dias (em %)\n",
        "df.minimum_nights[(df.minimum_nights > 80) & (df.minimum_nights < 100)].shape[0] / df.shape[0]"
      ],
      "metadata": {
        "colab": {
          "base_uri": "https://localhost:8080/"
        },
        "id": "v_96GNNULXLb",
        "outputId": "bef1e46e-4961-415b-b9a6-87de47704ecc"
      },
      "execution_count": 60,
      "outputs": [
        {
          "output_type": "execute_result",
          "data": {
            "text/plain": [
              "0.5680649526387009"
            ]
          },
          "metadata": {},
          "execution_count": 60
        }
      ]
    },
    {
      "cell_type": "markdown",
      "source": [
        "Notemos que os dados se concentram entre 0 e 20 dias (39%) e entre 80 e 100 dias (56%). Somente contemplar a mediana dá a impressão de que o Airbnb seria um aplicativo para quem quer alugar um espaço por meses, quando na verdade várias das entradas possuem valor abaixo de 20 noites. "
      ],
      "metadata": {
        "id": "5_88tSnzLbHN"
      }
    },
    {
      "cell_type": "code",
      "source": [
        "# Tipo de espaço mais alugado\n",
        "df['room_type'].value_counts().plot(kind='bar', rot=0, figsize=(7,5));"
      ],
      "metadata": {
        "colab": {
          "base_uri": "https://localhost:8080/",
          "height": 375
        },
        "id": "pAAGQIEvLYjD",
        "outputId": "096e00fe-a0eb-46dd-97a7-5e4e9ffa0d1c"
      },
      "execution_count": 61,
      "outputs": [
        {
          "output_type": "display_data",
          "data": {
            "text/plain": [
              "<Figure size 560x400 with 1 Axes>"
            ],
            "image/png": "[encoded data removed]"
          },
          "metadata": {}
        }
      ]
    },
    {
      "cell_type": "code",
      "source": [
        "# Verifiquemos a porcentagem de cada tipo de espaço\n",
        "df.room_type.value_counts(1)"
      ],
      "metadata": {
        "colab": {
          "base_uri": "https://localhost:8080/"
        },
        "id": "5T-g6KJzLcXN",
        "outputId": "d45d15d7-05e1-4a96-b277-a170db7b6576"
      },
      "execution_count": 62,
      "outputs": [
        {
          "output_type": "execute_result",
          "data": {
            "text/plain": [
              "Entire home/apt    0.531800\n",
              "Private room       0.401624\n",
              "Hotel room         0.037077\n",
              "Shared room        0.029499\n",
              "Name: room_type, dtype: float64"
            ]
          },
          "metadata": {},
          "execution_count": 62
        }
      ]
    },
    {
      "cell_type": "markdown",
      "source": [
        "Imóveis completos e quartos privados compõe mais de 93% do dataset, indicando o foco/diferencial do negócio do Airbnb, sendo hotéis mais voltados para empresas tradicionais e os quartos compartilhados também não sendo parte substancial da composição do aplicativo."
      ],
      "metadata": {
        "id": "MZBV4rEKtNAT"
      }
    },
    {
      "cell_type": "code",
      "source": [
        "# Verifiquemos em qual região os dados se concentram\n",
        "df.neighbourhood_group.value_counts().plot(kind='bar',rot=45);"
      ],
      "metadata": {
        "colab": {
          "base_uri": "https://localhost:8080/",
          "height": 469
        },
        "id": "bvaDO8-vLd3V",
        "outputId": "56e3b4db-4075-4f56-d172-9e63ca4f13cb"
      },
      "execution_count": 63,
      "outputs": [
        {
          "output_type": "display_data",
          "data": {
            "text/plain": [
              "<Figure size 640x440 with 1 Axes>"
            ],
            "image/png": "[encoded data removed]"
          },
          "metadata": {}
        }
      ]
    },
    {
      "cell_type": "markdown",
      "source": [
        "O foco  das locações está principalmente na região central, sendo as regiões norte e oeste de Singapura também bastante presentes nos registros do dataset."
      ],
      "metadata": {
        "id": "_QBRs3GCt_yo"
      }
    },
    {
      "cell_type": "code",
      "source": [
        "# Verificar os 15 bairros em que os dados mais se concentram\n",
        "df.neighbourhood.value_counts()[:15].sort_values().plot(kind='barh', figsize=(15,10));"
      ],
      "metadata": {
        "colab": {
          "base_uri": "https://localhost:8080/",
          "height": 690
        },
        "id": "5zyzrLn9LfV9",
        "outputId": "375a0d3f-cfc8-420c-8ea0-143363d9fbcb"
      },
      "execution_count": 64,
      "outputs": [
        {
          "output_type": "display_data",
          "data": {
            "text/plain": [
              "<Figure size 1200x800 with 1 Axes>"
            ],
            "image/png": "[encoded data removed]"
          },
          "metadata": {}
        }
      ]
    },
    {
      "cell_type": "markdown",
      "source": [
        "Abaixo é possível verificar o mapa com os bairros que mais possuem locações no Airbnb. Quanto maior a \"bolha\", mais locações o local possui. \n",
        "\n",
        "<img src=\"http://drive.google.com/uc?export=view&id=1nSPXBAzhkv_CL_57vBnIhnfhsUJ0rQWF\">\n",
        "\n",
        "Fonte: construído no Power BI"
      ],
      "metadata": {
        "id": "8fwftheMLjEg"
      }
    },
    {
      "cell_type": "markdown",
      "source": [
        "### Aprofundando a Análise\n",
        "\n",
        "Vamos então entrar mais afundo nos dados para verificar se conseguimos extrair alguns padrões do dataset. Vamos focalizar a análise principalmente na variável alvo **preço**."
      ],
      "metadata": {
        "id": "LPAkEFSFLl0B"
      }
    },
    {
      "cell_type": "markdown",
      "source": [
        "#### Agrupando Dados\n",
        "\n",
        "A seguir, agrupamos dados por região, bairro, tipo de locação e se o imóvel possui licença comercial ou não e verificamos o impacto dos agrupamentos na variável alvo **preço**, podendo avaliar alguns padrões."
      ],
      "metadata": {
        "id": "pG_9x8hpLoaC"
      }
    },
    {
      "cell_type": "markdown",
      "source": [
        "##### Agrupamento por região"
      ],
      "metadata": {
        "id": "o5bPQRmGYIh6"
      }
    },
    {
      "cell_type": "code",
      "source": [
        "# Agrupa por região, ordena do menor para o maior e plota um gráfico de barras horizontal\n",
        "df.groupby('neighbourhood_group').price.median().sort_values().plot(kind='barh', figsize=(12,7));"
      ],
      "metadata": {
        "colab": {
          "base_uri": "https://localhost:8080/",
          "height": 498
        },
        "id": "3_LwIJkKLgqe",
        "outputId": "d5e941be-191f-460c-fda5-da93f06aef83"
      },
      "execution_count": 65,
      "outputs": [
        {
          "output_type": "display_data",
          "data": {
            "text/plain": [
              "<Figure size 960x560 with 1 Axes>"
            ],
            "image/png": "[encoded data removed]"
          },
          "metadata": {}
        }
      ]
    },
    {
      "cell_type": "markdown",
      "source": [
        "Verificamos uma diferença entre as regiões, tendo uma amplitude de praticamente 80 SGD entre a região mais barata (região norte) com relação à região mais cara (região central)."
      ],
      "metadata": {
        "id": "6Vn2zd42m1hK"
      }
    },
    {
      "cell_type": "markdown",
      "source": [
        "##### Agrupamento por tipo de locação"
      ],
      "metadata": {
        "id": "mnlUKqD5ZAbC"
      }
    },
    {
      "cell_type": "code",
      "source": [
        "# Tipos de locações mais caras\n",
        "df.groupby('room_type').price.median().sort_values().plot(kind='barh');"
      ],
      "metadata": {
        "colab": {
          "base_uri": "https://localhost:8080/",
          "height": 402
        },
        "id": "JMTfb3IzL_Vq",
        "outputId": "b2109f05-db8d-465f-e1ac-7947fb36e6be"
      },
      "execution_count": 66,
      "outputs": [
        {
          "output_type": "display_data",
          "data": {
            "text/plain": [
              "<Figure size 640x440 with 1 Axes>"
            ],
            "image/png": "[encoded data removed]"
          },
          "metadata": {}
        }
      ]
    },
    {
      "cell_type": "markdown",
      "source": [
        "Verificamos que existe diferença entre os tipos de imóveis, sendo casas/apartamentos completos o tipo mais caro por se tratar de um imóvel completo, enquanto que quartos privados, compartilhados e de hotéis são mais baratos."
      ],
      "metadata": {
        "id": "_0U0b4qIm5Yr"
      }
    },
    {
      "cell_type": "markdown",
      "source": [
        "##### Hipótese 1\n",
        "Vamos verificar se a diferença de preços por região é impactada pela distribuição dos tipos de imóveis."
      ],
      "metadata": {
        "id": "w5oT-NBkZgk_"
      }
    },
    {
      "cell_type": "code",
      "source": [
        "# Verificando a quantidade de tipos de quarto por região\n",
        "df.groupby('neighbourhood_group').room_type.value_counts()"
      ],
      "metadata": {
        "colab": {
          "base_uri": "https://localhost:8080/"
        },
        "id": "iL-FujnNMBbz",
        "outputId": "ab2bcd01-79b2-46f2-8eaa-c193efc2f426"
      },
      "execution_count": 67,
      "outputs": [
        {
          "output_type": "execute_result",
          "data": {
            "text/plain": [
              "neighbourhood_group  room_type      \n",
              "Central Region       Private room       1013\n",
              "                     Entire home/apt     972\n",
              "                     Hotel room          127\n",
              "                     Shared room          97\n",
              "East Region          Private room        125\n",
              "                     Entire home/apt      27\n",
              "                     Shared room           4\n",
              "North Region         Entire home/apt     620\n",
              "                     Private room        147\n",
              "                     Hotel room           10\n",
              "                     Shared room           4\n",
              "North-East Region    Private room         69\n",
              "                     Entire home/apt      28\n",
              "                     Shared room           2\n",
              "West Region          Entire home/apt     318\n",
              "                     Private room        130\n",
              "                     Shared room           2\n",
              "Name: room_type, dtype: int64"
            ]
          },
          "metadata": {},
          "execution_count": 67
        }
      ]
    },
    {
      "cell_type": "markdown",
      "source": [
        "Vamos criar um DataFrame que facilite a comparação do percentual relativo de cada tipo de imóvel para cada região. Este DataFrame pode ser visto como um tipo de \"tabela\", que é um tipo de registro de dados bastante familiar à todas as pessoas. O algoritmo tem como objetivo final sumarizar os dados da maneira mais compacta possível."
      ],
      "metadata": {
        "id": "YYY6jL5PeSK5"
      }
    },
    {
      "cell_type": "code",
      "source": [
        "# Cria um DataFrame que agrupa os dados por região e avalia os tipos de imóvel (para cada região)\n",
        "df_rr = pd.DataFrame(df.groupby('neighbourhood_group').room_type.value_counts())\n",
        "\n",
        "# Renomeia a coluna do DataFrame\n",
        "df_rr.columns = ['count_bytype']\n",
        "\n",
        "# Remove os índices, transformando-os em colunas, substituíndo por uma range de 0 ao total de linhas do DataFrame\n",
        "df_rr.reset_index(inplace=True)"
      ],
      "metadata": {
        "id": "TOOL8fXGcPdz"
      },
      "execution_count": 68,
      "outputs": []
    },
    {
      "cell_type": "code",
      "source": [
        "# Algoritmo que cria uma lista com o total de imóveis da região para cada linha do DataFrame que chamei de df_rr\n",
        "a =[]\n",
        "for regioes in df_rr['neighbourhood_group']:\n",
        "  contagem = df_rr[df_rr['neighbourhood_group'] == '{}'.format(regioes)].count_bytype.sum()\n",
        "  a.append(contagem)"
      ],
      "metadata": {
        "id": "wPE-p2NpcPi6"
      },
      "execution_count": 69,
      "outputs": []
    },
    {
      "cell_type": "code",
      "source": [
        "# Cria uma coluna com a contagem total de imóveis por região para cada linha do DataFrame\n",
        "df_rr['contagem'] = a\n",
        "\n",
        "# Cria uma coluna com o valor relativo (em porcentagem) de cada tipo de imóvel por região e arredonda para duas casas decimais\n",
        "df_rr['relativo_regiao'] = ((df_rr['count_bytype'] / df_rr['contagem'])*100).round(2)\n",
        "\n",
        "# Dropa colunas que não vamos mais usar\n",
        "df_rr.drop(['count_bytype','contagem'],axis=1, inplace=True)\n",
        "\n",
        "# Retorna a coluna room_type para o índice\n",
        "df_rr.set_index('room_type',inplace=True)"
      ],
      "metadata": {
        "id": "JZUcaoSzcPm2"
      },
      "execution_count": 70,
      "outputs": []
    },
    {
      "cell_type": "code",
      "source": [
        "# Verificar o resultado\n",
        "df_rr"
      ],
      "metadata": {
        "colab": {
          "base_uri": "https://localhost:8080/",
          "height": 614
        },
        "id": "FiodG6ili2wi",
        "outputId": "00caac5b-cadf-45ac-cada-f8eeed7c3d4a"
      },
      "execution_count": 71,
      "outputs": [
        {
          "output_type": "execute_result",
          "data": {
            "text/plain": [
              "                neighbourhood_group  relativo_regiao\n",
              "room_type                                           \n",
              "Private room         Central Region            45.86\n",
              "Entire home/apt      Central Region            44.00\n",
              "Hotel room           Central Region             5.75\n",
              "Shared room          Central Region             4.39\n",
              "Private room            East Region            80.13\n",
              "Entire home/apt         East Region            17.31\n",
              "Shared room             East Region             2.56\n",
              "Entire home/apt        North Region            79.39\n",
              "Private room           North Region            18.82\n",
              "Hotel room             North Region             1.28\n",
              "Shared room            North Region             0.51\n",
              "Private room      North-East Region            69.70\n",
              "Entire home/apt   North-East Region            28.28\n",
              "Shared room       North-East Region             2.02\n",
              "Entire home/apt         West Region            70.67\n",
              "Private room            West Region            28.89\n",
              "Shared room             West Region             0.44"
            ],
            "text/html": [
              "\n",
              "  <div id=\"df-2be0226f-cf88-4549-aca2-d71bbbd44d45\">\n",
              "    <div class=\"colab-df-container\">\n",
              "      <div>\n",
              "<style scoped>\n",
              "    .dataframe tbody tr th:only-of-type {\n",
              "        vertical-align: middle;\n",
              "    }\n",
              "\n",
              "    .dataframe tbody tr th {\n",
              "        vertical-align: top;\n",
              "    }\n",
              "\n",
              "    .dataframe thead th {\n",
              "        text-align: right;\n",
              "    }\n",
              "</style>\n",
              "<table border=\"1\" class=\"dataframe\">\n",
              "  <thead>\n",
              "    <tr style=\"text-align: right;\">\n",
              "      <th></th>\n",
              "      <th>neighbourhood_group</th>\n",
              "      <th>relativo_regiao</th>\n",
              "    </tr>\n",
              "    <tr>\n",
              "      <th>room_type</th>\n",
              "      <th></th>\n",
              "      <th></th>\n",
              "    </tr>\n",
              "  </thead>\n",
              "  <tbody>\n",
              "    <tr>\n",
              "      <th>Private room</th>\n",
              "      <td>Central Region</td>\n",
              "      <td>45.86</td>\n",
              "    </tr>\n",
              "    <tr>\n",
              "      <th>Entire home/apt</th>\n",
              "      <td>Central Region</td>\n",
              "      <td>44.00</td>\n",
              "    </tr>\n",
              "    <tr>\n",
              "      <th>Hotel room</th>\n",
              "      <td>Central Region</td>\n",
              "      <td>5.75</td>\n",
              "    </tr>\n",
              "    <tr>\n",
              "      <th>Shared room</th>\n",
              "      <td>Central Region</td>\n",
              "      <td>4.39</td>\n",
              "    </tr>\n",
              "    <tr>\n",
              "      <th>Private room</th>\n",
              "      <td>East Region</td>\n",
              "      <td>80.13</td>\n",
              "    </tr>\n",
              "    <tr>\n",
              "      <th>Entire home/apt</th>\n",
              "      <td>East Region</td>\n",
              "      <td>17.31</td>\n",
              "    </tr>\n",
              "    <tr>\n",
              "      <th>Shared room</th>\n",
              "      <td>East Region</td>\n",
              "      <td>2.56</td>\n",
              "    </tr>\n",
              "    <tr>\n",
              "      <th>Entire home/apt</th>\n",
              "      <td>North Region</td>\n",
              "      <td>79.39</td>\n",
              "    </tr>\n",
              "    <tr>\n",
              "      <th>Private room</th>\n",
              "      <td>North Region</td>\n",
              "      <td>18.82</td>\n",
              "    </tr>\n",
              "    <tr>\n",
              "      <th>Hotel room</th>\n",
              "      <td>North Region</td>\n",
              "      <td>1.28</td>\n",
              "    </tr>\n",
              "    <tr>\n",
              "      <th>Shared room</th>\n",
              "      <td>North Region</td>\n",
              "      <td>0.51</td>\n",
              "    </tr>\n",
              "    <tr>\n",
              "      <th>Private room</th>\n",
              "      <td>North-East Region</td>\n",
              "      <td>69.70</td>\n",
              "    </tr>\n",
              "    <tr>\n",
              "      <th>Entire home/apt</th>\n",
              "      <td>North-East Region</td>\n",
              "      <td>28.28</td>\n",
              "    </tr>\n",
              "    <tr>\n",
              "      <th>Shared room</th>\n",
              "      <td>North-East Region</td>\n",
              "      <td>2.02</td>\n",
              "    </tr>\n",
              "    <tr>\n",
              "      <th>Entire home/apt</th>\n",
              "      <td>West Region</td>\n",
              "      <td>70.67</td>\n",
              "    </tr>\n",
              "    <tr>\n",
              "      <th>Private room</th>\n",
              "      <td>West Region</td>\n",
              "      <td>28.89</td>\n",
              "    </tr>\n",
              "    <tr>\n",
              "      <th>Shared room</th>\n",
              "      <td>West Region</td>\n",
              "      <td>0.44</td>\n",
              "    </tr>\n",
              "  </tbody>\n",
              "</table>\n",
              "</div>\n",
              "      <button class=\"colab-df-convert\" onclick=\"convertToInteractive('df-2be0226f-cf88-4549-aca2-d71bbbd44d45')\"\n",
              "              title=\"Convert this dataframe to an interactive table.\"\n",
              "              style=\"display:none;\">\n",
              "        \n",
              "  <svg xmlns=\"http://www.w3.org/2000/svg\" height=\"24px\"viewBox=\"0 0 24 24\"\n",
              "       width=\"24px\">\n",
              "    <path d=\"M0 0h24v24H0V0z\" fill=\"none\"/>\n",
              "    <path d=\"M18.56 5.44l.94 2.06.94-2.06 2.06-.94-2.06-.94-.94-2.06-.94 2.06-2.06.94zm-11 1L8.5 8.5l.94-2.06 2.06-.94-2.06-.94L8.5 2.5l-.94 2.06-2.06.94zm10 10l.94 2.06.94-2.06 2.06-.94-2.06-.94-.94-2.06-.94 2.06-2.06.94z\"/><path d=\"M17.41 7.96l-1.37-1.37c-.4-.4-.92-.59-1.43-.59-.52 0-1.04.2-1.43.59L10.3 9.45l-7.72 7.72c-.78.78-.78 2.05 0 2.83L4 21.41c.39.39.9.59 1.41.59.51 0 1.02-.2 1.41-.59l7.78-7.78 2.81-2.81c.8-.78.8-2.07 0-2.86zM5.41 20L4 18.59l7.72-7.72 1.47 1.35L5.41 20z\"/>\n",
              "  </svg>\n",
              "      </button>\n",
              "      \n",
              "  <style>\n",
              "    .colab-df-container {\n",
              "      display:flex;\n",
              "      flex-wrap:wrap;\n",
              "      gap: 12px;\n",
              "    }\n",
              "\n",
              "    .colab-df-convert {\n",
              "      background-color: #E8F0FE;\n",
              "      border: none;\n",
              "      border-radius: 50%;\n",
              "      cursor: pointer;\n",
              "      display: none;\n",
              "      fill: #1967D2;\n",
              "      height: 32px;\n",
              "      padding: 0 0 0 0;\n",
              "      width: 32px;\n",
              "    }\n",
              "\n",
              "    .colab-df-convert:hover {\n",
              "      background-color: #E2EBFA;\n",
              "      box-shadow: 0px 1px 2px rgba(60, 64, 67, 0.3), 0px 1px 3px 1px rgba(60, 64, 67, 0.15);\n",
              "      fill: #174EA6;\n",
              "    }\n",
              "\n",
              "    [theme=dark] .colab-df-convert {\n",
              "      background-color: #3B4455;\n",
              "      fill: #D2E3FC;\n",
              "    }\n",
              "\n",
              "    [theme=dark] .colab-df-convert:hover {\n",
              "      background-color: #434B5C;\n",
              "      box-shadow: 0px 1px 3px 1px rgba(0, 0, 0, 0.15);\n",
              "      filter: drop-shadow(0px 1px 2px rgba(0, 0, 0, 0.3));\n",
              "      fill: #FFFFFF;\n",
              "    }\n",
              "  </style>\n",
              "\n",
              "      <script>\n",
              "        const buttonEl =\n",
              "          document.querySelector('#df-2be0226f-cf88-4549-aca2-d71bbbd44d45 button.colab-df-convert');\n",
              "        buttonEl.style.display =\n",
              "          google.colab.kernel.accessAllowed ? 'block' : 'none';\n",
              "\n",
              "        async function convertToInteractive(key) {\n",
              "          const element = document.querySelector('#df-2be0226f-cf88-4549-aca2-d71bbbd44d45');\n",
              "          const dataTable =\n",
              "            await google.colab.kernel.invokeFunction('convertToInteractive',\n",
              "                                                     [key], {});\n",
              "          if (!dataTable) return;\n",
              "\n",
              "          const docLinkHtml = 'Like what you see? Visit the ' +\n",
              "            '<a target=\"_blank\" href=https://colab.research.google.com/notebooks/data_table.ipynb>data table notebook</a>'\n",
              "            + ' to learn more about interactive tables.';\n",
              "          element.innerHTML = '';\n",
              "          dataTable['output_type'] = 'display_data';\n",
              "          await google.colab.output.renderOutput(dataTable, element);\n",
              "          const docLink = document.createElement('div');\n",
              "          docLink.innerHTML = docLinkHtml;\n",
              "          element.appendChild(docLink);\n",
              "        }\n",
              "      </script>\n",
              "    </div>\n",
              "  </div>\n",
              "  "
            ]
          },
          "metadata": {},
          "execution_count": 71
        }
      ]
    },
    {
      "cell_type": "markdown",
      "source": [
        "Bom, é um DataFrame bem organizado mas ainda não está bom para efeito tratativo. Vamos resumí-lo para facilitar a comparação."
      ],
      "metadata": {
        "id": "79S9CLTcNXQf"
      }
    },
    {
      "cell_type": "code",
      "source": [
        "# Criando um DataFrame cujos índices são as regiões e as colunas são os tipos de imóveis\n",
        "tabela = pd.DataFrame(df_rr.loc['Entire home/apt'].relativo_regiao.values, \n",
        "                      columns=['Entire home/apt'], \n",
        "                      index=['Central Region','East Region','North Region','North-East Region', 'West Region'])"
      ],
      "metadata": {
        "id": "FeY5yZ1kMUFV"
      },
      "execution_count": 72,
      "outputs": []
    },
    {
      "cell_type": "code",
      "source": [
        "# Inserindo os dados de Hotel room no DataFrame\n",
        "tabela['Hotel room'] = [5.75, 0.00, 1.28, 0.00, 0.00]\n",
        "\n",
        "# Inserindo os dados de Private room no DataFrame\n",
        "tabela['Private room'] = df_rr.loc['Private room'].relativo_regiao.values\n",
        "\n",
        "# Inserindo os dados de Shared room no DataFrame\n",
        "tabela['Shared room'] = df_rr.loc['Shared room'].relativo_regiao.values"
      ],
      "metadata": {
        "id": "y19ZSK25MUIT"
      },
      "execution_count": 73,
      "outputs": []
    },
    {
      "cell_type": "code",
      "source": [
        "# Trocando as linhas de posição para ficar organizado conforme os preços\n",
        "tabela = tabela.reindex(['Central Region','East Region','North-East Region', 'West Region', 'North Region'])"
      ],
      "metadata": {
        "id": "4BtPyiRDStOP"
      },
      "execution_count": 74,
      "outputs": []
    },
    {
      "cell_type": "markdown",
      "source": [
        "<h1>Abaixo está a versão final da tabela. </h1>\n",
        "Os tipos de imóveis foram ordenados do mais caro para o mais barato (da esquerda para a direita) e das regiões mais caras para as mais baratas (de cima para baixo)."
      ],
      "metadata": {
        "id": "SBjU8aolRRE7"
      }
    },
    {
      "cell_type": "code",
      "source": [
        "tabela"
      ],
      "metadata": {
        "colab": {
          "base_uri": "https://localhost:8080/",
          "height": 206
        },
        "id": "D3bOKKW_MUNT",
        "outputId": "2816162c-8181-489d-ccf8-80fa7c913fa3"
      },
      "execution_count": 75,
      "outputs": [
        {
          "output_type": "execute_result",
          "data": {
            "text/plain": [
              "                   Entire home/apt  Hotel room  Private room  Shared room\n",
              "Central Region               44.00        5.75         45.86         4.39\n",
              "East Region                  17.31        0.00         80.13         2.56\n",
              "North-East Region            28.28        0.00         69.70         2.02\n",
              "West Region                  70.67        0.00         28.89         0.44\n",
              "North Region                 79.39        1.28         18.82         0.51"
            ],
            "text/html": [
              "\n",
              "  <div id=\"df-9d8cf665-8264-4001-b400-187968e3f1a5\">\n",
              "    <div class=\"colab-df-container\">\n",
              "      <div>\n",
              "<style scoped>\n",
              "    .dataframe tbody tr th:only-of-type {\n",
              "        vertical-align: middle;\n",
              "    }\n",
              "\n",
              "    .dataframe tbody tr th {\n",
              "        vertical-align: top;\n",
              "    }\n",
              "\n",
              "    .dataframe thead th {\n",
              "        text-align: right;\n",
              "    }\n",
              "</style>\n",
              "<table border=\"1\" class=\"dataframe\">\n",
              "  <thead>\n",
              "    <tr style=\"text-align: right;\">\n",
              "      <th></th>\n",
              "      <th>Entire home/apt</th>\n",
              "      <th>Hotel room</th>\n",
              "      <th>Private room</th>\n",
              "      <th>Shared room</th>\n",
              "    </tr>\n",
              "  </thead>\n",
              "  <tbody>\n",
              "    <tr>\n",
              "      <th>Central Region</th>\n",
              "      <td>44.00</td>\n",
              "      <td>5.75</td>\n",
              "      <td>45.86</td>\n",
              "      <td>4.39</td>\n",
              "    </tr>\n",
              "    <tr>\n",
              "      <th>East Region</th>\n",
              "      <td>17.31</td>\n",
              "      <td>0.00</td>\n",
              "      <td>80.13</td>\n",
              "      <td>2.56</td>\n",
              "    </tr>\n",
              "    <tr>\n",
              "      <th>North-East Region</th>\n",
              "      <td>28.28</td>\n",
              "      <td>0.00</td>\n",
              "      <td>69.70</td>\n",
              "      <td>2.02</td>\n",
              "    </tr>\n",
              "    <tr>\n",
              "      <th>West Region</th>\n",
              "      <td>70.67</td>\n",
              "      <td>0.00</td>\n",
              "      <td>28.89</td>\n",
              "      <td>0.44</td>\n",
              "    </tr>\n",
              "    <tr>\n",
              "      <th>North Region</th>\n",
              "      <td>79.39</td>\n",
              "      <td>1.28</td>\n",
              "      <td>18.82</td>\n",
              "      <td>0.51</td>\n",
              "    </tr>\n",
              "  </tbody>\n",
              "</table>\n",
              "</div>\n",
              "      <button class=\"colab-df-convert\" onclick=\"convertToInteractive('df-9d8cf665-8264-4001-b400-187968e3f1a5')\"\n",
              "              title=\"Convert this dataframe to an interactive table.\"\n",
              "              style=\"display:none;\">\n",
              "        \n",
              "  <svg xmlns=\"http://www.w3.org/2000/svg\" height=\"24px\"viewBox=\"0 0 24 24\"\n",
              "       width=\"24px\">\n",
              "    <path d=\"M0 0h24v24H0V0z\" fill=\"none\"/>\n",
              "    <path d=\"M18.56 5.44l.94 2.06.94-2.06 2.06-.94-2.06-.94-.94-2.06-.94 2.06-2.06.94zm-11 1L8.5 8.5l.94-2.06 2.06-.94-2.06-.94L8.5 2.5l-.94 2.06-2.06.94zm10 10l.94 2.06.94-2.06 2.06-.94-2.06-.94-.94-2.06-.94 2.06-2.06.94z\"/><path d=\"M17.41 7.96l-1.37-1.37c-.4-.4-.92-.59-1.43-.59-.52 0-1.04.2-1.43.59L10.3 9.45l-7.72 7.72c-.78.78-.78 2.05 0 2.83L4 21.41c.39.39.9.59 1.41.59.51 0 1.02-.2 1.41-.59l7.78-7.78 2.81-2.81c.8-.78.8-2.07 0-2.86zM5.41 20L4 18.59l7.72-7.72 1.47 1.35L5.41 20z\"/>\n",
              "  </svg>\n",
              "      </button>\n",
              "      \n",
              "  <style>\n",
              "    .colab-df-container {\n",
              "      display:flex;\n",
              "      flex-wrap:wrap;\n",
              "      gap: 12px;\n",
              "    }\n",
              "\n",
              "    .colab-df-convert {\n",
              "      background-color: #E8F0FE;\n",
              "      border: none;\n",
              "      border-radius: 50%;\n",
              "      cursor: pointer;\n",
              "      display: none;\n",
              "      fill: #1967D2;\n",
              "      height: 32px;\n",
              "      padding: 0 0 0 0;\n",
              "      width: 32px;\n",
              "    }\n",
              "\n",
              "    .colab-df-convert:hover {\n",
              "      background-color: #E2EBFA;\n",
              "      box-shadow: 0px 1px 2px rgba(60, 64, 67, 0.3), 0px 1px 3px 1px rgba(60, 64, 67, 0.15);\n",
              "      fill: #174EA6;\n",
              "    }\n",
              "\n",
              "    [theme=dark] .colab-df-convert {\n",
              "      background-color: #3B4455;\n",
              "      fill: #D2E3FC;\n",
              "    }\n",
              "\n",
              "    [theme=dark] .colab-df-convert:hover {\n",
              "      background-color: #434B5C;\n",
              "      box-shadow: 0px 1px 3px 1px rgba(0, 0, 0, 0.15);\n",
              "      filter: drop-shadow(0px 1px 2px rgba(0, 0, 0, 0.3));\n",
              "      fill: #FFFFFF;\n",
              "    }\n",
              "  </style>\n",
              "\n",
              "      <script>\n",
              "        const buttonEl =\n",
              "          document.querySelector('#df-9d8cf665-8264-4001-b400-187968e3f1a5 button.colab-df-convert');\n",
              "        buttonEl.style.display =\n",
              "          google.colab.kernel.accessAllowed ? 'block' : 'none';\n",
              "\n",
              "        async function convertToInteractive(key) {\n",
              "          const element = document.querySelector('#df-9d8cf665-8264-4001-b400-187968e3f1a5');\n",
              "          const dataTable =\n",
              "            await google.colab.kernel.invokeFunction('convertToInteractive',\n",
              "                                                     [key], {});\n",
              "          if (!dataTable) return;\n",
              "\n",
              "          const docLinkHtml = 'Like what you see? Visit the ' +\n",
              "            '<a target=\"_blank\" href=https://colab.research.google.com/notebooks/data_table.ipynb>data table notebook</a>'\n",
              "            + ' to learn more about interactive tables.';\n",
              "          element.innerHTML = '';\n",
              "          dataTable['output_type'] = 'display_data';\n",
              "          await google.colab.output.renderOutput(dataTable, element);\n",
              "          const docLink = document.createElement('div');\n",
              "          docLink.innerHTML = docLinkHtml;\n",
              "          element.appendChild(docLink);\n",
              "        }\n",
              "      </script>\n",
              "    </div>\n",
              "  </div>\n",
              "  "
            ]
          },
          "metadata": {},
          "execution_count": 75
        }
      ]
    },
    {
      "cell_type": "markdown",
      "source": [
        "Podemos observar que as regiões norte e oeste possuem bastante imóveis completos, que são os tipos de imóveis mais caros e ainda assim, como vimos anteriormente neste notebook, possuem a menor mediana dos preços.\n",
        "\n",
        "Isto que indica que localização e tipo de imóvel são duas categorias independentes que tendem a impactar o preço, isto é, caso tivéssemos uma disposição em que os imóveis da região central se concentrassem nos tipos mais caros, e a região norte os imóveis mais baratos, então estaríamos diante de fenômenos dependentes, um explicaria o outro."
      ],
      "metadata": {
        "id": "rrbX9DCuUvaT"
      }
    },
    {
      "cell_type": "markdown",
      "source": [
        "##### Agrupamento por bairros"
      ],
      "metadata": {
        "id": "THaxpmJOpB4i"
      }
    },
    {
      "cell_type": "code",
      "source": [
        "# Locações mais caras por bairro\n",
        "df.groupby('neighbourhood').price.median().sort_values(ascending=False)[:20].sort_values(ascending=True).plot(kind='barh', figsize=(15,10));"
      ],
      "metadata": {
        "colab": {
          "base_uri": "https://localhost:8080/",
          "height": 690
        },
        "id": "1SvnVZfQMDoE",
        "outputId": "4a0c03dd-cabd-4199-ea43-55647aba6b44"
      },
      "execution_count": 87,
      "outputs": [
        {
          "output_type": "display_data",
          "data": {
            "text/plain": [
              "<Figure size 1200x800 with 1 Axes>"
            ],
            "image/png": "[encoded data removed]"
          },
          "metadata": {}
        }
      ]
    },
    {
      "cell_type": "code",
      "source": [
        "# Locações mais baratas por bairro\n",
        "df.groupby('neighbourhood').price.median().sort_values(ascending=True)[:25].sort_values(ascending=False).plot(kind='barh', figsize=(15,10));"
      ],
      "metadata": {
        "colab": {
          "base_uri": "https://localhost:8080/",
          "height": 690
        },
        "id": "AWQLIMoXNydE",
        "outputId": "b0865f19-1b76-41d4-a3da-97ddcbb50fed"
      },
      "execution_count": 89,
      "outputs": [
        {
          "output_type": "display_data",
          "data": {
            "text/plain": [
              "<Figure size 1200x800 with 1 Axes>"
            ],
            "image/png": "[encoded data removed]"
          },
          "metadata": {}
        }
      ]
    },
    {
      "cell_type": "markdown",
      "source": [
        "No mapa a seguir podemos perceber bem as diferenças de preços entre as regiões. Cada \"bolha\" representa um bairro e quanto maior a \"bolha\", maior a média de preços das locações. Observação: foram excluídos os dados de Tuas e Sounther Island, pois atrapalhavam a visualização.\n",
        "\n",
        "<img src=\"http://drive.google.com/uc?export=view&id=12IFgho-MvLlGU7gRfNqfU6cR3roeKx4Q\">\n",
        "\n",
        "Fonte: construído no Power BI"
      ],
      "metadata": {
        "id": "ysJQP6AZstAW"
      }
    },
    {
      "cell_type": "markdown",
      "source": [
        "##### Hipótese 2\n",
        "Verifiquemos se existe diferença de preços com relação às locações que possuem licenciamento comercial e as que não possuem. Será que o licenciamento comercial afeta o preço?"
      ],
      "metadata": {
        "id": "Ax6ceknbqqTz"
      }
    },
    {
      "cell_type": "code",
      "source": [
        "# Mediana de locações não licenciadas \n",
        "no_license = df[df['license'] == 'No license'].price.median()\n",
        "print('A mediana de preços de um espaço não licenciado é', no_license)\n",
        "\n",
        "# Mediana de locações licenciadas \n",
        "with_license = df[df['license'] != 'No license'].price.median()\n",
        "print('A mediana dos preços de um espaço licenciado é', with_license)"
      ],
      "metadata": {
        "colab": {
          "base_uri": "https://localhost:8080/"
        },
        "id": "ZqAIJwo6N1D9",
        "outputId": "0a1904d2-187c-49f0-c858-dab3d9a3a856"
      },
      "execution_count": 90,
      "outputs": [
        {
          "output_type": "stream",
          "name": "stdout",
          "text": [
            "A mediana de preços de um espaço não licenciado é 88.0\n",
            "A mediana dos preços de um espaço licenciado é 176.0\n"
          ]
        }
      ]
    },
    {
      "cell_type": "markdown",
      "source": [
        "De fato, existe uma diferença substancial entre os grupos. A mediana dos preços de imóveis licenciados é mais que o dobro dos não licenciados. Verifiquemos a seguir se há algum outro fenômeno que esteja associado a esta diferença de preços."
      ],
      "metadata": {
        "id": "N1WbgYHhrRTL"
      }
    },
    {
      "cell_type": "markdown",
      "source": [
        "<h2> Comparativo de distribuições de tipos de imóveis filtrados pelo licenciamento </h2>"
      ],
      "metadata": {
        "id": "Ss9GVyZtry9_"
      }
    },
    {
      "cell_type": "code",
      "source": [
        "df[df['license'] == 'No license'].room_type.value_counts(1)"
      ],
      "metadata": {
        "colab": {
          "base_uri": "https://localhost:8080/"
        },
        "id": "DONsBoFkOhtl",
        "outputId": "6925d3ea-ff36-4cef-920e-7fefeacef43a"
      },
      "execution_count": 91,
      "outputs": [
        {
          "output_type": "execute_result",
          "data": {
            "text/plain": [
              "Entire home/apt    0.550064\n",
              "Private room       0.394770\n",
              "Shared room        0.028380\n",
              "Hotel room         0.026786\n",
              "Name: room_type, dtype: float64"
            ]
          },
          "metadata": {},
          "execution_count": 91
        }
      ]
    },
    {
      "cell_type": "code",
      "source": [
        "df[df['license'] != 'No license'].room_type.value_counts(1)"
      ],
      "metadata": {
        "colab": {
          "base_uri": "https://localhost:8080/"
        },
        "id": "T_loTY6JOjDT",
        "outputId": "5790fb47-286d-4af5-da4e-facb1bae33e3"
      },
      "execution_count": 92,
      "outputs": [
        {
          "output_type": "execute_result",
          "data": {
            "text/plain": [
              "Private room       0.440072\n",
              "Entire home/apt    0.429338\n",
              "Hotel room         0.094812\n",
              "Shared room        0.035778\n",
              "Name: room_type, dtype: float64"
            ]
          },
          "metadata": {},
          "execution_count": 92
        }
      ]
    },
    {
      "cell_type": "markdown",
      "source": [
        "Há uma maior presença de quartos de hotéis e quartos compartilhados nas locações licenciadas, mas ainda assim as distribuições se mantém relativamente estáveis, sendo o foco em imóveis completos e quartos privados."
      ],
      "metadata": {
        "id": "V5wDNSwouigE"
      }
    },
    {
      "cell_type": "markdown",
      "source": [
        "<h2> Comparativo de distribuições das regiões dos imóveis filtrados pelo licenciamento </h2>"
      ],
      "metadata": {
        "id": "NuntOsZOsCQs"
      }
    },
    {
      "cell_type": "code",
      "source": [
        "# Proporção das regiões para imóveis não licenciados\n",
        "df[df['license'] == 'No license'].neighbourhood_group.value_counts(1)"
      ],
      "metadata": {
        "colab": {
          "base_uri": "https://localhost:8080/"
        },
        "id": "8wGN3fHyOlIr",
        "outputId": "11a5492f-ac73-4dd1-f581-831e0206167e"
      },
      "execution_count": 93,
      "outputs": [
        {
          "output_type": "execute_result",
          "data": {
            "text/plain": [
              "Central Region       0.543367\n",
              "North Region         0.246173\n",
              "West Region          0.135523\n",
              "East Region          0.047832\n",
              "North-East Region    0.027105\n",
              "Name: neighbourhood_group, dtype: float64"
            ]
          },
          "metadata": {},
          "execution_count": 93
        }
      ]
    },
    {
      "cell_type": "code",
      "source": [
        "# Proporção das regiões para imóveis licenciados\n",
        "df[df['license'] != 'No license'].neighbourhood_group.value_counts(1)"
      ],
      "metadata": {
        "colab": {
          "base_uri": "https://localhost:8080/"
        },
        "id": "gGrUbVq9OnK0",
        "outputId": "42a6cd9f-7c40-4b40-8806-1b7f73008467"
      },
      "execution_count": 94,
      "outputs": [
        {
          "output_type": "execute_result",
          "data": {
            "text/plain": [
              "Central Region       0.903399\n",
              "West Region          0.044723\n",
              "North-East Region    0.025045\n",
              "North Region         0.016100\n",
              "East Region          0.010733\n",
              "Name: neighbourhood_group, dtype: float64"
            ]
          },
          "metadata": {},
          "execution_count": 94
        }
      ]
    },
    {
      "cell_type": "markdown",
      "source": [
        "Podemos notar maior presença de locações licenciadas na região central, o que aciona um questionamento: será que as locações licenciadas são mais caras por conta da região, ou a região é mais cara por conta das locações licenciadas? \n",
        "\n",
        "Verifiquemos a mediana de preços de imóveis licenciados e não licenciados na região central:"
      ],
      "metadata": {
        "id": "t_OgMdE6Os1Y"
      }
    },
    {
      "cell_type": "code",
      "source": [
        "# Mediana de preços de imóveis licenciados localizados na região central\n",
        "df[(df['license'] != 'No license') & (df['neighbourhood_group']=='Central Region')].price.median()"
      ],
      "metadata": {
        "colab": {
          "base_uri": "https://localhost:8080/"
        },
        "id": "qtlF4bnt0oxb",
        "outputId": "db520d23-56b7-45ed-a3f3-8566d11c73ca"
      },
      "execution_count": 95,
      "outputs": [
        {
          "output_type": "execute_result",
          "data": {
            "text/plain": [
              "175.0"
            ]
          },
          "metadata": {},
          "execution_count": 95
        }
      ]
    },
    {
      "cell_type": "code",
      "source": [
        "# Mediana de preços de imóveis não licenciados localizados na região central\n",
        "df[(df['license'] == 'No license') & (df['neighbourhood_group']=='Central Region')].price.median()"
      ],
      "metadata": {
        "colab": {
          "base_uri": "https://localhost:8080/"
        },
        "id": "CB3dJGcL0o0P",
        "outputId": "403954f8-59d1-41ff-c6cb-7db2a10fd8a1"
      },
      "execution_count": 96,
      "outputs": [
        {
          "output_type": "execute_result",
          "data": {
            "text/plain": [
              "120.0"
            ]
          },
          "metadata": {},
          "execution_count": 96
        }
      ]
    },
    {
      "cell_type": "markdown",
      "source": [
        "Agora temos uma maior certeza de que há diferença entre ambos os grupos, uma vez que, sob a premissa de ambos estarem na região central, os imóveis licenciados continuam sendo mais caros, provavelmente devido ao custo do licenciamento e por agregar uma atividade comercial, enquanto que imóveis não licenciados possuem maior probabilidade de estarem sendo alugados apenas por conveniência dos seus proprietários e não por agregar uma atividade comercial.\n",
        "\n",
        "Portanto, temos um terceiro fator contribuinte para o preço dos imóveis: ser licenciado ou não ser licenciado."
      ],
      "metadata": {
        "id": "iGeWAdg0wsAk"
      }
    },
    {
      "cell_type": "markdown",
      "source": [
        "#### Verificando Correlações"
      ],
      "metadata": {
        "id": "YfqtnGfgOvl5"
      }
    },
    {
      "cell_type": "markdown",
      "source": [
        "Antes de efetivamente verificar as correlações, vamos simplificar esta tarefa, unindo informações e removendo as informações redundantes como número de avaliações que possue três métricas relativamente parecidas.\n",
        "\n",
        "A seguir, unimos as métricas latitude e longitude em uma só métrica que é a distância ao centro de Singapura."
      ],
      "metadata": {
        "id": "bl_Z48Bs4lrs"
      }
    },
    {
      "cell_type": "code",
      "source": [
        "# Será que quanto mais distante do centro, maior o preço?\n",
        "\n",
        "# Calcula a latitude média da região central\n",
        "latitude_centro = df[df['neighbourhood_group'] == 'Central Region'].latitude.mean()\n",
        "\n",
        "# Calcula a longitude média da região central\n",
        "longitude_centro = df[df['neighbourhood_group'] == 'Central Region'].longitude.mean()\n",
        "\n",
        "# Calcula a distância euclidiana das coordenadas médias das locações da região central\n",
        "df['distancia_centro'] = (df['latitude'] - latitude_centro)**2 + (df['longitude'] - longitude_centro)**2"
      ],
      "metadata": {
        "id": "esFXnTnTOovF"
      },
      "execution_count": 10,
      "outputs": []
    },
    {
      "cell_type": "markdown",
      "source": [
        "A seguir, calculamos a quantidade de tempo que a locação está sem receber uma avaliação, para verificar se existe alguma associação com a variável alvo preço."
      ],
      "metadata": {
        "id": "MkOy60i44_3t"
      }
    },
    {
      "cell_type": "code",
      "source": [
        "#Será que o tempo que o espaço está sem avaliações influencia no preço?\n",
        "\n",
        "# Cria uma coluna que calcula quanto tempo da última avaliação até a data que o dataset foi publicado\n",
        "df['tempo_sem_avalicao'] = (pd.to_datetime('2022-06-22') - df.last_review).dt.days"
      ],
      "metadata": {
        "id": "k84FVF_POw7A"
      },
      "execution_count": 11,
      "outputs": []
    },
    {
      "cell_type": "markdown",
      "source": [
        "Finalmente, vamos plotar um *heatmap* que facilita a compreensão do coeficiente de correlação."
      ],
      "metadata": {
        "id": "_S_Xrtbk5M47"
      }
    },
    {
      "cell_type": "code",
      "source": [
        "# Clonar o dataframe e remover as colunas desnecessárias\n",
        "df_clean = df.copy()\n",
        "df_clean = df.drop(['latitude','longitude','number_of_reviews_ltm','reviews_per_month'], axis=1)\n",
        "\n",
        "# Criar uma matriz de correlação\n",
        "corr = df_clean.corr()\n",
        "\n",
        "# Plotar um heatmap a partir das correlações\n",
        "sns.set(rc = {'figure.figsize':(15,8)})\n",
        "sns.heatmap(corr,cmap='bwr', fmt='.2f', annot=True, annot_kws={'size': 15});"
      ],
      "metadata": {
        "colab": {
          "base_uri": "https://localhost:8080/",
          "height": 647
        },
        "id": "qkIjespiOylZ",
        "outputId": "f8a67bd5-d623-4dcd-ddf5-d5b0820f7241"
      },
      "execution_count": 12,
      "outputs": [
        {
          "output_type": "display_data",
          "data": {
            "text/plain": [
              "<Figure size 1080x576 with 2 Axes>"
            ],
            "image/png": "[encoded data removed]"
          },
          "metadata": {}
        }
      ]
    },
    {
      "cell_type": "markdown",
      "source": [
        "A maior correlação encontrada com relação à variável alvo foi de 0.36 que é uma correlação regular entre número de entradas que o locatário tem no dataset e preço. E quanto maior a distância ao centro, menor tende a ser o preço. As demais correlações com a variável alvo são pouco relevantes, mas é interessante notar outras correlações:\n",
        "* Quanto maior o tempo sem avaliação maior tende ser o número mínimo de noites que o locatário determina;\n",
        "* Quanto mais distante do centro, menor tende a ser o número mínimo de noites e menor o tempo sem avaliação;\n",
        "* Quanto mais entradas o locatário tem no dataset, maior tende a ser a viabilidade do imóvel no ano."
      ],
      "metadata": {
        "id": "-k9Pl4ru5YMh"
      }
    },
    {
      "cell_type": "markdown",
      "source": [
        "##### Verificando mais algumas correlações"
      ],
      "metadata": {
        "id": "SN6-mrRv6WQX"
      }
    },
    {
      "cell_type": "markdown",
      "source": [
        "A seguir, vamos testar na prática a Lei da Oferta e da Demanda: será que quanto mais locações em determinada localidade, mais barato é o aluguel?"
      ],
      "metadata": {
        "id": "bxfeSakn7h6-"
      }
    },
    {
      "cell_type": "code",
      "source": [
        "# Cria um DataFrame com a contagem de locações em cada bairro\n",
        "df_cor = pd.DataFrame(df.neighbourhood.value_counts(sort=False))\n",
        "\n",
        "# Calcula a mediana do preço das locações em cada bairro\n",
        "df_cor['a'] = df.groupby('neighbourhood',sort=False)['price'].median()\n",
        "\n",
        "# Calcula a média do preço das locações em cada bairro\n",
        "df_cor['b'] = df.groupby('neighbourhood',sort=False)['price'].mean()\n",
        "\n",
        "# Dá nome às colunas, apenas para o DataFrame ficar mais bonito\n",
        "df_cor.columns = ['count','median_price','mean_price']\n",
        "\n",
        "# Mostrando o resultado\n",
        "print('Como ficou o DataFrame que criei: \\n')\n",
        "display(df_cor.head())\n",
        "print('\\n\\n\\n Correlacionando as variaveis: \\n')\n",
        "display(df_cor.corr())"
      ],
      "metadata": {
        "colab": {
          "base_uri": "https://localhost:8080/",
          "height": 454
        },
        "id": "-DmXPmpUO0S6",
        "outputId": "366133b6-0007-4be2-d7e1-6debe40063d2"
      },
      "execution_count": 100,
      "outputs": [
        {
          "output_type": "stream",
          "name": "stdout",
          "text": [
            "Como ficou o DataFrame que criei: \n",
            "\n"
          ]
        },
        {
          "output_type": "display_data",
          "data": {
            "text/plain": [
              "             count  median_price  mean_price\n",
              "Woodlands      593          60.0   71.048904\n",
              "Bukit Timah     49          94.0  110.448980\n",
              "Tampines        29          83.0   95.793103\n",
              "Bukit Merah    166         150.0  157.403614\n",
              "Newton          35          85.0  125.514286"
            ],
            "text/html": [
              "\n",
              "  <div id=\"df-b32e71b3-7148-462a-ba60-6f52bfac086e\">\n",
              "    <div class=\"colab-df-container\">\n",
              "      <div>\n",
              "<style scoped>\n",
              "    .dataframe tbody tr th:only-of-type {\n",
              "        vertical-align: middle;\n",
              "    }\n",
              "\n",
              "    .dataframe tbody tr th {\n",
              "        vertical-align: top;\n",
              "    }\n",
              "\n",
              "    .dataframe thead th {\n",
              "        text-align: right;\n",
              "    }\n",
              "</style>\n",
              "<table border=\"1\" class=\"dataframe\">\n",
              "  <thead>\n",
              "    <tr style=\"text-align: right;\">\n",
              "      <th></th>\n",
              "      <th>count</th>\n",
              "      <th>median_price</th>\n",
              "      <th>mean_price</th>\n",
              "    </tr>\n",
              "  </thead>\n",
              "  <tbody>\n",
              "    <tr>\n",
              "      <th>Woodlands</th>\n",
              "      <td>593</td>\n",
              "      <td>60.0</td>\n",
              "      <td>71.048904</td>\n",
              "    </tr>\n",
              "    <tr>\n",
              "      <th>Bukit Timah</th>\n",
              "      <td>49</td>\n",
              "      <td>94.0</td>\n",
              "      <td>110.448980</td>\n",
              "    </tr>\n",
              "    <tr>\n",
              "      <th>Tampines</th>\n",
              "      <td>29</td>\n",
              "      <td>83.0</td>\n",
              "      <td>95.793103</td>\n",
              "    </tr>\n",
              "    <tr>\n",
              "      <th>Bukit Merah</th>\n",
              "      <td>166</td>\n",
              "      <td>150.0</td>\n",
              "      <td>157.403614</td>\n",
              "    </tr>\n",
              "    <tr>\n",
              "      <th>Newton</th>\n",
              "      <td>35</td>\n",
              "      <td>85.0</td>\n",
              "      <td>125.514286</td>\n",
              "    </tr>\n",
              "  </tbody>\n",
              "</table>\n",
              "</div>\n",
              "      <button class=\"colab-df-convert\" onclick=\"convertToInteractive('df-b32e71b3-7148-462a-ba60-6f52bfac086e')\"\n",
              "              title=\"Convert this dataframe to an interactive table.\"\n",
              "              style=\"display:none;\">\n",
              "        \n",
              "  <svg xmlns=\"http://www.w3.org/2000/svg\" height=\"24px\"viewBox=\"0 0 24 24\"\n",
              "       width=\"24px\">\n",
              "    <path d=\"M0 0h24v24H0V0z\" fill=\"none\"/>\n",
              "    <path d=\"M18.56 5.44l.94 2.06.94-2.06 2.06-.94-2.06-.94-.94-2.06-.94 2.06-2.06.94zm-11 1L8.5 8.5l.94-2.06 2.06-.94-2.06-.94L8.5 2.5l-.94 2.06-2.06.94zm10 10l.94 2.06.94-2.06 2.06-.94-2.06-.94-.94-2.06-.94 2.06-2.06.94z\"/><path d=\"M17.41 7.96l-1.37-1.37c-.4-.4-.92-.59-1.43-.59-.52 0-1.04.2-1.43.59L10.3 9.45l-7.72 7.72c-.78.78-.78 2.05 0 2.83L4 21.41c.39.39.9.59 1.41.59.51 0 1.02-.2 1.41-.59l7.78-7.78 2.81-2.81c.8-.78.8-2.07 0-2.86zM5.41 20L4 18.59l7.72-7.72 1.47 1.35L5.41 20z\"/>\n",
              "  </svg>\n",
              "      </button>\n",
              "      \n",
              "  <style>\n",
              "    .colab-df-container {\n",
              "      display:flex;\n",
              "      flex-wrap:wrap;\n",
              "      gap: 12px;\n",
              "    }\n",
              "\n",
              "    .colab-df-convert {\n",
              "      background-color: #E8F0FE;\n",
              "      border: none;\n",
              "      border-radius: 50%;\n",
              "      cursor: pointer;\n",
              "      display: none;\n",
              "      fill: #1967D2;\n",
              "      height: 32px;\n",
              "      padding: 0 0 0 0;\n",
              "      width: 32px;\n",
              "    }\n",
              "\n",
              "    .colab-df-convert:hover {\n",
              "      background-color: #E2EBFA;\n",
              "      box-shadow: 0px 1px 2px rgba(60, 64, 67, 0.3), 0px 1px 3px 1px rgba(60, 64, 67, 0.15);\n",
              "      fill: #174EA6;\n",
              "    }\n",
              "\n",
              "    [theme=dark] .colab-df-convert {\n",
              "      background-color: #3B4455;\n",
              "      fill: #D2E3FC;\n",
              "    }\n",
              "\n",
              "    [theme=dark] .colab-df-convert:hover {\n",
              "      background-color: #434B5C;\n",
              "      box-shadow: 0px 1px 3px 1px rgba(0, 0, 0, 0.15);\n",
              "      filter: drop-shadow(0px 1px 2px rgba(0, 0, 0, 0.3));\n",
              "      fill: #FFFFFF;\n",
              "    }\n",
              "  </style>\n",
              "\n",
              "      <script>\n",
              "        const buttonEl =\n",
              "          document.querySelector('#df-b32e71b3-7148-462a-ba60-6f52bfac086e button.colab-df-convert');\n",
              "        buttonEl.style.display =\n",
              "          google.colab.kernel.accessAllowed ? 'block' : 'none';\n",
              "\n",
              "        async function convertToInteractive(key) {\n",
              "          const element = document.querySelector('#df-b32e71b3-7148-462a-ba60-6f52bfac086e');\n",
              "          const dataTable =\n",
              "            await google.colab.kernel.invokeFunction('convertToInteractive',\n",
              "                                                     [key], {});\n",
              "          if (!dataTable) return;\n",
              "\n",
              "          const docLinkHtml = 'Like what you see? Visit the ' +\n",
              "            '<a target=\"_blank\" href=https://colab.research.google.com/notebooks/data_table.ipynb>data table notebook</a>'\n",
              "            + ' to learn more about interactive tables.';\n",
              "          element.innerHTML = '';\n",
              "          dataTable['output_type'] = 'display_data';\n",
              "          await google.colab.output.renderOutput(dataTable, element);\n",
              "          const docLink = document.createElement('div');\n",
              "          docLink.innerHTML = docLinkHtml;\n",
              "          element.appendChild(docLink);\n",
              "        }\n",
              "      </script>\n",
              "    </div>\n",
              "  </div>\n",
              "  "
            ]
          },
          "metadata": {}
        },
        {
          "output_type": "stream",
          "name": "stdout",
          "text": [
            "\n",
            "\n",
            "\n",
            " Correlacionando as variaveis: \n",
            "\n"
          ]
        },
        {
          "output_type": "display_data",
          "data": {
            "text/plain": [
              "                 count  median_price  mean_price\n",
              "count         1.000000     -0.151237   -0.172664\n",
              "median_price -0.151237      1.000000    0.975987\n",
              "mean_price   -0.172664      0.975987    1.000000"
            ],
            "text/html": [
              "\n",
              "  <div id=\"df-27086c68-b401-4913-b5c2-50556e947bcc\">\n",
              "    <div class=\"colab-df-container\">\n",
              "      <div>\n",
              "<style scoped>\n",
              "    .dataframe tbody tr th:only-of-type {\n",
              "        vertical-align: middle;\n",
              "    }\n",
              "\n",
              "    .dataframe tbody tr th {\n",
              "        vertical-align: top;\n",
              "    }\n",
              "\n",
              "    .dataframe thead th {\n",
              "        text-align: right;\n",
              "    }\n",
              "</style>\n",
              "<table border=\"1\" class=\"dataframe\">\n",
              "  <thead>\n",
              "    <tr style=\"text-align: right;\">\n",
              "      <th></th>\n",
              "      <th>count</th>\n",
              "      <th>median_price</th>\n",
              "      <th>mean_price</th>\n",
              "    </tr>\n",
              "  </thead>\n",
              "  <tbody>\n",
              "    <tr>\n",
              "      <th>count</th>\n",
              "      <td>1.000000</td>\n",
              "      <td>-0.151237</td>\n",
              "      <td>-0.172664</td>\n",
              "    </tr>\n",
              "    <tr>\n",
              "      <th>median_price</th>\n",
              "      <td>-0.151237</td>\n",
              "      <td>1.000000</td>\n",
              "      <td>0.975987</td>\n",
              "    </tr>\n",
              "    <tr>\n",
              "      <th>mean_price</th>\n",
              "      <td>-0.172664</td>\n",
              "      <td>0.975987</td>\n",
              "      <td>1.000000</td>\n",
              "    </tr>\n",
              "  </tbody>\n",
              "</table>\n",
              "</div>\n",
              "      <button class=\"colab-df-convert\" onclick=\"convertToInteractive('df-27086c68-b401-4913-b5c2-50556e947bcc')\"\n",
              "              title=\"Convert this dataframe to an interactive table.\"\n",
              "              style=\"display:none;\">\n",
              "        \n",
              "  <svg xmlns=\"http://www.w3.org/2000/svg\" height=\"24px\"viewBox=\"0 0 24 24\"\n",
              "       width=\"24px\">\n",
              "    <path d=\"M0 0h24v24H0V0z\" fill=\"none\"/>\n",
              "    <path d=\"M18.56 5.44l.94 2.06.94-2.06 2.06-.94-2.06-.94-.94-2.06-.94 2.06-2.06.94zm-11 1L8.5 8.5l.94-2.06 2.06-.94-2.06-.94L8.5 2.5l-.94 2.06-2.06.94zm10 10l.94 2.06.94-2.06 2.06-.94-2.06-.94-.94-2.06-.94 2.06-2.06.94z\"/><path d=\"M17.41 7.96l-1.37-1.37c-.4-.4-.92-.59-1.43-.59-.52 0-1.04.2-1.43.59L10.3 9.45l-7.72 7.72c-.78.78-.78 2.05 0 2.83L4 21.41c.39.39.9.59 1.41.59.51 0 1.02-.2 1.41-.59l7.78-7.78 2.81-2.81c.8-.78.8-2.07 0-2.86zM5.41 20L4 18.59l7.72-7.72 1.47 1.35L5.41 20z\"/>\n",
              "  </svg>\n",
              "      </button>\n",
              "      \n",
              "  <style>\n",
              "    .colab-df-container {\n",
              "      display:flex;\n",
              "      flex-wrap:wrap;\n",
              "      gap: 12px;\n",
              "    }\n",
              "\n",
              "    .colab-df-convert {\n",
              "      background-color: #E8F0FE;\n",
              "      border: none;\n",
              "      border-radius: 50%;\n",
              "      cursor: pointer;\n",
              "      display: none;\n",
              "      fill: #1967D2;\n",
              "      height: 32px;\n",
              "      padding: 0 0 0 0;\n",
              "      width: 32px;\n",
              "    }\n",
              "\n",
              "    .colab-df-convert:hover {\n",
              "      background-color: #E2EBFA;\n",
              "      box-shadow: 0px 1px 2px rgba(60, 64, 67, 0.3), 0px 1px 3px 1px rgba(60, 64, 67, 0.15);\n",
              "      fill: #174EA6;\n",
              "    }\n",
              "\n",
              "    [theme=dark] .colab-df-convert {\n",
              "      background-color: #3B4455;\n",
              "      fill: #D2E3FC;\n",
              "    }\n",
              "\n",
              "    [theme=dark] .colab-df-convert:hover {\n",
              "      background-color: #434B5C;\n",
              "      box-shadow: 0px 1px 3px 1px rgba(0, 0, 0, 0.15);\n",
              "      filter: drop-shadow(0px 1px 2px rgba(0, 0, 0, 0.3));\n",
              "      fill: #FFFFFF;\n",
              "    }\n",
              "  </style>\n",
              "\n",
              "      <script>\n",
              "        const buttonEl =\n",
              "          document.querySelector('#df-27086c68-b401-4913-b5c2-50556e947bcc button.colab-df-convert');\n",
              "        buttonEl.style.display =\n",
              "          google.colab.kernel.accessAllowed ? 'block' : 'none';\n",
              "\n",
              "        async function convertToInteractive(key) {\n",
              "          const element = document.querySelector('#df-27086c68-b401-4913-b5c2-50556e947bcc');\n",
              "          const dataTable =\n",
              "            await google.colab.kernel.invokeFunction('convertToInteractive',\n",
              "                                                     [key], {});\n",
              "          if (!dataTable) return;\n",
              "\n",
              "          const docLinkHtml = 'Like what you see? Visit the ' +\n",
              "            '<a target=\"_blank\" href=https://colab.research.google.com/notebooks/data_table.ipynb>data table notebook</a>'\n",
              "            + ' to learn more about interactive tables.';\n",
              "          element.innerHTML = '';\n",
              "          dataTable['output_type'] = 'display_data';\n",
              "          await google.colab.output.renderOutput(dataTable, element);\n",
              "          const docLink = document.createElement('div');\n",
              "          docLink.innerHTML = docLinkHtml;\n",
              "          element.appendChild(docLink);\n",
              "        }\n",
              "      </script>\n",
              "    </div>\n",
              "  </div>\n",
              "  "
            ]
          },
          "metadata": {}
        }
      ]
    },
    {
      "cell_type": "markdown",
      "source": [
        "Verificamos que de fato, quanto mais imóveis no bairro, menor tende a ser o preço. Muito embora, ainda se trate de uma correlação fraca."
      ],
      "metadata": {
        "id": "AHNDJaAp7zst"
      }
    },
    {
      "cell_type": "code",
      "source": [
        "# Verifiquemos com relação às regiões\n",
        "df_corr = pd.DataFrame(df.neighbourhood_group.value_counts(sort=False))\n",
        "df_corr['a'] = df.groupby('neighbourhood_group',sort=False)['price'].median()\n",
        "df_corr['b'] = df.groupby('neighbourhood_group',sort=False)['price'].mean()\n",
        "df_corr.columns = ['count','median_price','mean_price']\n",
        "\n",
        "# Mostrando o resultado\n",
        "display(df_corr.head())\n",
        "print('\\n\\n\\n Correlacionando as variaveis: \\n')\n",
        "display(df_corr.corr())"
      ],
      "metadata": {
        "colab": {
          "base_uri": "https://localhost:8080/",
          "height": 419
        },
        "id": "HXHXmREfO3My",
        "outputId": "82aa3c52-3813-4fbd-8f60-dd41e4f50134"
      },
      "execution_count": 101,
      "outputs": [
        {
          "output_type": "display_data",
          "data": {
            "text/plain": [
              "                   count  median_price  mean_price\n",
              "North Region         781          64.0   78.924456\n",
              "Central Region      2209         140.0  150.550023\n",
              "East Region          156         100.0  118.205128\n",
              "North-East Region     99          89.0  121.000000\n",
              "West Region          450          70.0  106.957778"
            ],
            "text/html": [
              "\n",
              "  <div id=\"df-73b229ff-b2e0-454c-95dc-34a296e14d9a\">\n",
              "    <div class=\"colab-df-container\">\n",
              "      <div>\n",
              "<style scoped>\n",
              "    .dataframe tbody tr th:only-of-type {\n",
              "        vertical-align: middle;\n",
              "    }\n",
              "\n",
              "    .dataframe tbody tr th {\n",
              "        vertical-align: top;\n",
              "    }\n",
              "\n",
              "    .dataframe thead th {\n",
              "        text-align: right;\n",
              "    }\n",
              "</style>\n",
              "<table border=\"1\" class=\"dataframe\">\n",
              "  <thead>\n",
              "    <tr style=\"text-align: right;\">\n",
              "      <th></th>\n",
              "      <th>count</th>\n",
              "      <th>median_price</th>\n",
              "      <th>mean_price</th>\n",
              "    </tr>\n",
              "  </thead>\n",
              "  <tbody>\n",
              "    <tr>\n",
              "      <th>North Region</th>\n",
              "      <td>781</td>\n",
              "      <td>64.0</td>\n",
              "      <td>78.924456</td>\n",
              "    </tr>\n",
              "    <tr>\n",
              "      <th>Central Region</th>\n",
              "      <td>2209</td>\n",
              "      <td>140.0</td>\n",
              "      <td>150.550023</td>\n",
              "    </tr>\n",
              "    <tr>\n",
              "      <th>East Region</th>\n",
              "      <td>156</td>\n",
              "      <td>100.0</td>\n",
              "      <td>118.205128</td>\n",
              "    </tr>\n",
              "    <tr>\n",
              "      <th>North-East Region</th>\n",
              "      <td>99</td>\n",
              "      <td>89.0</td>\n",
              "      <td>121.000000</td>\n",
              "    </tr>\n",
              "    <tr>\n",
              "      <th>West Region</th>\n",
              "      <td>450</td>\n",
              "      <td>70.0</td>\n",
              "      <td>106.957778</td>\n",
              "    </tr>\n",
              "  </tbody>\n",
              "</table>\n",
              "</div>\n",
              "      <button class=\"colab-df-convert\" onclick=\"convertToInteractive('df-73b229ff-b2e0-454c-95dc-34a296e14d9a')\"\n",
              "              title=\"Convert this dataframe to an interactive table.\"\n",
              "              style=\"display:none;\">\n",
              "        \n",
              "  <svg xmlns=\"http://www.w3.org/2000/svg\" height=\"24px\"viewBox=\"0 0 24 24\"\n",
              "       width=\"24px\">\n",
              "    <path d=\"M0 0h24v24H0V0z\" fill=\"none\"/>\n",
              "    <path d=\"M18.56 5.44l.94 2.06.94-2.06 2.06-.94-2.06-.94-.94-2.06-.94 2.06-2.06.94zm-11 1L8.5 8.5l.94-2.06 2.06-.94-2.06-.94L8.5 2.5l-.94 2.06-2.06.94zm10 10l.94 2.06.94-2.06 2.06-.94-2.06-.94-.94-2.06-.94 2.06-2.06.94z\"/><path d=\"M17.41 7.96l-1.37-1.37c-.4-.4-.92-.59-1.43-.59-.52 0-1.04.2-1.43.59L10.3 9.45l-7.72 7.72c-.78.78-.78 2.05 0 2.83L4 21.41c.39.39.9.59 1.41.59.51 0 1.02-.2 1.41-.59l7.78-7.78 2.81-2.81c.8-.78.8-2.07 0-2.86zM5.41 20L4 18.59l7.72-7.72 1.47 1.35L5.41 20z\"/>\n",
              "  </svg>\n",
              "      </button>\n",
              "      \n",
              "  <style>\n",
              "    .colab-df-container {\n",
              "      display:flex;\n",
              "      flex-wrap:wrap;\n",
              "      gap: 12px;\n",
              "    }\n",
              "\n",
              "    .colab-df-convert {\n",
              "      background-color: #E8F0FE;\n",
              "      border: none;\n",
              "      border-radius: 50%;\n",
              "      cursor: pointer;\n",
              "      display: none;\n",
              "      fill: #1967D2;\n",
              "      height: 32px;\n",
              "      padding: 0 0 0 0;\n",
              "      width: 32px;\n",
              "    }\n",
              "\n",
              "    .colab-df-convert:hover {\n",
              "      background-color: #E2EBFA;\n",
              "      box-shadow: 0px 1px 2px rgba(60, 64, 67, 0.3), 0px 1px 3px 1px rgba(60, 64, 67, 0.15);\n",
              "      fill: #174EA6;\n",
              "    }\n",
              "\n",
              "    [theme=dark] .colab-df-convert {\n",
              "      background-color: #3B4455;\n",
              "      fill: #D2E3FC;\n",
              "    }\n",
              "\n",
              "    [theme=dark] .colab-df-convert:hover {\n",
              "      background-color: #434B5C;\n",
              "      box-shadow: 0px 1px 3px 1px rgba(0, 0, 0, 0.15);\n",
              "      filter: drop-shadow(0px 1px 2px rgba(0, 0, 0, 0.3));\n",
              "      fill: #FFFFFF;\n",
              "    }\n",
              "  </style>\n",
              "\n",
              "      <script>\n",
              "        const buttonEl =\n",
              "          document.querySelector('#df-73b229ff-b2e0-454c-95dc-34a296e14d9a button.colab-df-convert');\n",
              "        buttonEl.style.display =\n",
              "          google.colab.kernel.accessAllowed ? 'block' : 'none';\n",
              "\n",
              "        async function convertToInteractive(key) {\n",
              "          const element = document.querySelector('#df-73b229ff-b2e0-454c-95dc-34a296e14d9a');\n",
              "          const dataTable =\n",
              "            await google.colab.kernel.invokeFunction('convertToInteractive',\n",
              "                                                     [key], {});\n",
              "          if (!dataTable) return;\n",
              "\n",
              "          const docLinkHtml = 'Like what you see? Visit the ' +\n",
              "            '<a target=\"_blank\" href=https://colab.research.google.com/notebooks/data_table.ipynb>data table notebook</a>'\n",
              "            + ' to learn more about interactive tables.';\n",
              "          element.innerHTML = '';\n",
              "          dataTable['output_type'] = 'display_data';\n",
              "          await google.colab.output.renderOutput(dataTable, element);\n",
              "          const docLink = document.createElement('div');\n",
              "          docLink.innerHTML = docLinkHtml;\n",
              "          element.appendChild(docLink);\n",
              "        }\n",
              "      </script>\n",
              "    </div>\n",
              "  </div>\n",
              "  "
            ]
          },
          "metadata": {}
        },
        {
          "output_type": "stream",
          "name": "stdout",
          "text": [
            "\n",
            "\n",
            "\n",
            " Correlacionando as variaveis: \n",
            "\n"
          ]
        },
        {
          "output_type": "display_data",
          "data": {
            "text/plain": [
              "                 count  median_price  mean_price\n",
              "count         1.000000      0.698751    0.528935\n",
              "median_price  0.698751      1.000000    0.928986\n",
              "mean_price    0.528935      0.928986    1.000000"
            ],
            "text/html": [
              "\n",
              "  <div id=\"df-a2e9f3dc-5fca-4652-a7a8-aa0606e155c0\">\n",
              "    <div class=\"colab-df-container\">\n",
              "      <div>\n",
              "<style scoped>\n",
              "    .dataframe tbody tr th:only-of-type {\n",
              "        vertical-align: middle;\n",
              "    }\n",
              "\n",
              "    .dataframe tbody tr th {\n",
              "        vertical-align: top;\n",
              "    }\n",
              "\n",
              "    .dataframe thead th {\n",
              "        text-align: right;\n",
              "    }\n",
              "</style>\n",
              "<table border=\"1\" class=\"dataframe\">\n",
              "  <thead>\n",
              "    <tr style=\"text-align: right;\">\n",
              "      <th></th>\n",
              "      <th>count</th>\n",
              "      <th>median_price</th>\n",
              "      <th>mean_price</th>\n",
              "    </tr>\n",
              "  </thead>\n",
              "  <tbody>\n",
              "    <tr>\n",
              "      <th>count</th>\n",
              "      <td>1.000000</td>\n",
              "      <td>0.698751</td>\n",
              "      <td>0.528935</td>\n",
              "    </tr>\n",
              "    <tr>\n",
              "      <th>median_price</th>\n",
              "      <td>0.698751</td>\n",
              "      <td>1.000000</td>\n",
              "      <td>0.928986</td>\n",
              "    </tr>\n",
              "    <tr>\n",
              "      <th>mean_price</th>\n",
              "      <td>0.528935</td>\n",
              "      <td>0.928986</td>\n",
              "      <td>1.000000</td>\n",
              "    </tr>\n",
              "  </tbody>\n",
              "</table>\n",
              "</div>\n",
              "      <button class=\"colab-df-convert\" onclick=\"convertToInteractive('df-a2e9f3dc-5fca-4652-a7a8-aa0606e155c0')\"\n",
              "              title=\"Convert this dataframe to an interactive table.\"\n",
              "              style=\"display:none;\">\n",
              "        \n",
              "  <svg xmlns=\"http://www.w3.org/2000/svg\" height=\"24px\"viewBox=\"0 0 24 24\"\n",
              "       width=\"24px\">\n",
              "    <path d=\"M0 0h24v24H0V0z\" fill=\"none\"/>\n",
              "    <path d=\"M18.56 5.44l.94 2.06.94-2.06 2.06-.94-2.06-.94-.94-2.06-.94 2.06-2.06.94zm-11 1L8.5 8.5l.94-2.06 2.06-.94-2.06-.94L8.5 2.5l-.94 2.06-2.06.94zm10 10l.94 2.06.94-2.06 2.06-.94-2.06-.94-.94-2.06-.94 2.06-2.06.94z\"/><path d=\"M17.41 7.96l-1.37-1.37c-.4-.4-.92-.59-1.43-.59-.52 0-1.04.2-1.43.59L10.3 9.45l-7.72 7.72c-.78.78-.78 2.05 0 2.83L4 21.41c.39.39.9.59 1.41.59.51 0 1.02-.2 1.41-.59l7.78-7.78 2.81-2.81c.8-.78.8-2.07 0-2.86zM5.41 20L4 18.59l7.72-7.72 1.47 1.35L5.41 20z\"/>\n",
              "  </svg>\n",
              "      </button>\n",
              "      \n",
              "  <style>\n",
              "    .colab-df-container {\n",
              "      display:flex;\n",
              "      flex-wrap:wrap;\n",
              "      gap: 12px;\n",
              "    }\n",
              "\n",
              "    .colab-df-convert {\n",
              "      background-color: #E8F0FE;\n",
              "      border: none;\n",
              "      border-radius: 50%;\n",
              "      cursor: pointer;\n",
              "      display: none;\n",
              "      fill: #1967D2;\n",
              "      height: 32px;\n",
              "      padding: 0 0 0 0;\n",
              "      width: 32px;\n",
              "    }\n",
              "\n",
              "    .colab-df-convert:hover {\n",
              "      background-color: #E2EBFA;\n",
              "      box-shadow: 0px 1px 2px rgba(60, 64, 67, 0.3), 0px 1px 3px 1px rgba(60, 64, 67, 0.15);\n",
              "      fill: #174EA6;\n",
              "    }\n",
              "\n",
              "    [theme=dark] .colab-df-convert {\n",
              "      background-color: #3B4455;\n",
              "      fill: #D2E3FC;\n",
              "    }\n",
              "\n",
              "    [theme=dark] .colab-df-convert:hover {\n",
              "      background-color: #434B5C;\n",
              "      box-shadow: 0px 1px 3px 1px rgba(0, 0, 0, 0.15);\n",
              "      filter: drop-shadow(0px 1px 2px rgba(0, 0, 0, 0.3));\n",
              "      fill: #FFFFFF;\n",
              "    }\n",
              "  </style>\n",
              "\n",
              "      <script>\n",
              "        const buttonEl =\n",
              "          document.querySelector('#df-a2e9f3dc-5fca-4652-a7a8-aa0606e155c0 button.colab-df-convert');\n",
              "        buttonEl.style.display =\n",
              "          google.colab.kernel.accessAllowed ? 'block' : 'none';\n",
              "\n",
              "        async function convertToInteractive(key) {\n",
              "          const element = document.querySelector('#df-a2e9f3dc-5fca-4652-a7a8-aa0606e155c0');\n",
              "          const dataTable =\n",
              "            await google.colab.kernel.invokeFunction('convertToInteractive',\n",
              "                                                     [key], {});\n",
              "          if (!dataTable) return;\n",
              "\n",
              "          const docLinkHtml = 'Like what you see? Visit the ' +\n",
              "            '<a target=\"_blank\" href=https://colab.research.google.com/notebooks/data_table.ipynb>data table notebook</a>'\n",
              "            + ' to learn more about interactive tables.';\n",
              "          element.innerHTML = '';\n",
              "          dataTable['output_type'] = 'display_data';\n",
              "          await google.colab.output.renderOutput(dataTable, element);\n",
              "          const docLink = document.createElement('div');\n",
              "          docLink.innerHTML = docLinkHtml;\n",
              "          element.appendChild(docLink);\n",
              "        }\n",
              "      </script>\n",
              "    </div>\n",
              "  </div>\n",
              "  "
            ]
          },
          "metadata": {}
        }
      ]
    },
    {
      "cell_type": "markdown",
      "source": [
        "No tocante às regiões o mesmo padrão não é visualizado, reforçando novamente que cada região é um bom cluster e explica bem a diferença de preços dos imóveis."
      ],
      "metadata": {
        "id": "VAnLdXpl76_o"
      }
    },
    {
      "cell_type": "markdown",
      "source": [
        "# Conclusões\n",
        "\n",
        "Os dois principais fatores que influenciam na variável alvo do dataset (preço) são a localização (bairro e região) e o tipo de locação (imóvel inteiro, quarto privado, etc). \n",
        "\n",
        "As principais locações do dataset são imóvel inteiro e quarto privado, sendo hotéis e quartos compartilhados uma parcela muito ínfima do dataset, pois não fazem parte do business core do Airbnb. \n",
        "\n",
        "A região central é a região em que os preços se mostraram mais elevados, não sendo influenciado pelo tipo de locação, uma vez que a região mais barata, a região norte, possui mais imóveis inteiros do que quartos privados, sendo que em geral, quartos privados são mais baratos que imóveis inteiros. Já a região central possui praticamente o mesmo número de imóveis inteiros e quartos privados.\n",
        "\n",
        "A maioria das locações também não possuem licença comercial, o que é um dado normal de se esperar, tendo em vista que o intuito do Airbnb é justamente unir, de maneira espontânea, pessoas que não estão utilizando determinados imóveis com pessoas que querem locá-lo. \n",
        "\n",
        "Ainda assim, foi possível notar que locações licenciadas tendem a ser bem mais caras que locações não licenciadas e a maioria das locações licenciadas se encontram na região central. Visitando o site/app do Airbnb é possível notar que as principais locações na homepage tem forte apelo ao turismo, à natureza e a arquiteturas diferenciadas, talvez sendo este grande diferencial com relação aos hotéis tradicionais e possivelmente daí que partem as licenças comerciais, cobrando um pouco mais caro por uma experiência inesquecível.\n",
        "\n",
        "Foram descobertas duas correlações regulares que relacionam-se com a variável alvo. Sendo a principal delas o número de locações cadastradas do mesmo locador, que se deve provavelmente ao fato de que, quanto maior o número de locações maior é a probabilidade do locador ser alguém que comprou imóveis para ganhar dinheiro com isso. A segunda é a distância ao centro, que corrobora com as conclusões mencionadas acima.\n",
        "\n",
        "Também há uma fraca correlação negativa entre número de avaliações e preço, o que pode ser observado em vários outros contextos (como produtos do varejo, por exemplo): produtos mais baratos tendem a serem melhor avaliados pelos consumidores. \n",
        "\n",
        "Por fim, foi descoberto uma fraca correlação negativa entre número de locações por bairro e a mediana de preços, o que explica um pouco a relação dos bairros com os preços e porque alguns destes se distoam da mediana de sua região. "
      ],
      "metadata": {
        "id": "bmDwnAeXO9xn"
      }
    }
  ]
}